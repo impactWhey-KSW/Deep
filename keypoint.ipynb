{
  "nbformat": 4,
  "nbformat_minor": 0,
  "metadata": {
    "colab": {
      "name": "3/19 과제 코드.ipynb",
      "provenance": []
    },
    "kernelspec": {
      "name": "python3",
      "display_name": "Python 3"
    },
    "accelerator": "GPU",
    "widgets": {
      "application/vnd.jupyter.widget-state+json": {
        "764a01b9c4fa46698475656f81636adb": {
          "model_module": "@jupyter-widgets/controls",
          "model_name": "HBoxModel",
          "state": {
            "_view_name": "HBoxView",
            "_dom_classes": [],
            "_model_name": "HBoxModel",
            "_view_module": "@jupyter-widgets/controls",
            "_model_module_version": "1.5.0",
            "_view_count": null,
            "_view_module_version": "1.5.0",
            "box_style": "",
            "layout": "IPY_MODEL_12e7b846b85d42f0b851f43c23e345d2",
            "_model_module": "@jupyter-widgets/controls",
            "children": [
              "IPY_MODEL_1536a2b964f94e4f87f72d4e55704252",
              "IPY_MODEL_78be3225191047a1a59f704ada89bb05"
            ]
          }
        },
        "12e7b846b85d42f0b851f43c23e345d2": {
          "model_module": "@jupyter-widgets/base",
          "model_name": "LayoutModel",
          "state": {
            "_view_name": "LayoutView",
            "grid_template_rows": null,
            "right": null,
            "justify_content": null,
            "_view_module": "@jupyter-widgets/base",
            "overflow": null,
            "_model_module_version": "1.2.0",
            "_view_count": null,
            "flex_flow": null,
            "width": null,
            "min_width": null,
            "border": null,
            "align_items": null,
            "bottom": null,
            "_model_module": "@jupyter-widgets/base",
            "top": null,
            "grid_column": null,
            "overflow_y": null,
            "overflow_x": null,
            "grid_auto_flow": null,
            "grid_area": null,
            "grid_template_columns": null,
            "flex": null,
            "_model_name": "LayoutModel",
            "justify_items": null,
            "grid_row": null,
            "max_height": null,
            "align_content": null,
            "visibility": null,
            "align_self": null,
            "height": null,
            "min_height": null,
            "padding": null,
            "grid_auto_rows": null,
            "grid_gap": null,
            "max_width": null,
            "order": null,
            "_view_module_version": "1.2.0",
            "grid_template_areas": null,
            "object_position": null,
            "object_fit": null,
            "grid_auto_columns": null,
            "margin": null,
            "display": null,
            "left": null
          }
        },
        "1536a2b964f94e4f87f72d4e55704252": {
          "model_module": "@jupyter-widgets/controls",
          "model_name": "FloatProgressModel",
          "state": {
            "_view_name": "ProgressView",
            "style": "IPY_MODEL_c88c33698ed44b85930c74f1838221af",
            "_dom_classes": [],
            "description": "  0%",
            "_model_name": "FloatProgressModel",
            "bar_style": "danger",
            "max": 1049,
            "_view_module": "@jupyter-widgets/controls",
            "_model_module_version": "1.5.0",
            "value": 4,
            "_view_count": null,
            "_view_module_version": "1.5.0",
            "orientation": "horizontal",
            "min": 0,
            "description_tooltip": null,
            "_model_module": "@jupyter-widgets/controls",
            "layout": "IPY_MODEL_b9fdf70bfd264c35931ef4492e568e8e"
          }
        },
        "78be3225191047a1a59f704ada89bb05": {
          "model_module": "@jupyter-widgets/controls",
          "model_name": "HTMLModel",
          "state": {
            "_view_name": "HTMLView",
            "style": "IPY_MODEL_524efc79681a4db28468b2687593d0de",
            "_dom_classes": [],
            "description": "",
            "_model_name": "HTMLModel",
            "placeholder": "​",
            "_view_module": "@jupyter-widgets/controls",
            "_model_module_version": "1.5.0",
            "value": " 4/1049 [00:08&lt;35:11,  2.02s/it]",
            "_view_count": null,
            "_view_module_version": "1.5.0",
            "description_tooltip": null,
            "_model_module": "@jupyter-widgets/controls",
            "layout": "IPY_MODEL_740d21ab681944f0b428d630ba1fafdb"
          }
        },
        "c88c33698ed44b85930c74f1838221af": {
          "model_module": "@jupyter-widgets/controls",
          "model_name": "ProgressStyleModel",
          "state": {
            "_view_name": "StyleView",
            "_model_name": "ProgressStyleModel",
            "description_width": "initial",
            "_view_module": "@jupyter-widgets/base",
            "_model_module_version": "1.5.0",
            "_view_count": null,
            "_view_module_version": "1.2.0",
            "bar_color": null,
            "_model_module": "@jupyter-widgets/controls"
          }
        },
        "b9fdf70bfd264c35931ef4492e568e8e": {
          "model_module": "@jupyter-widgets/base",
          "model_name": "LayoutModel",
          "state": {
            "_view_name": "LayoutView",
            "grid_template_rows": null,
            "right": null,
            "justify_content": null,
            "_view_module": "@jupyter-widgets/base",
            "overflow": null,
            "_model_module_version": "1.2.0",
            "_view_count": null,
            "flex_flow": null,
            "width": null,
            "min_width": null,
            "border": null,
            "align_items": null,
            "bottom": null,
            "_model_module": "@jupyter-widgets/base",
            "top": null,
            "grid_column": null,
            "overflow_y": null,
            "overflow_x": null,
            "grid_auto_flow": null,
            "grid_area": null,
            "grid_template_columns": null,
            "flex": null,
            "_model_name": "LayoutModel",
            "justify_items": null,
            "grid_row": null,
            "max_height": null,
            "align_content": null,
            "visibility": null,
            "align_self": null,
            "height": null,
            "min_height": null,
            "padding": null,
            "grid_auto_rows": null,
            "grid_gap": null,
            "max_width": null,
            "order": null,
            "_view_module_version": "1.2.0",
            "grid_template_areas": null,
            "object_position": null,
            "object_fit": null,
            "grid_auto_columns": null,
            "margin": null,
            "display": null,
            "left": null
          }
        },
        "524efc79681a4db28468b2687593d0de": {
          "model_module": "@jupyter-widgets/controls",
          "model_name": "DescriptionStyleModel",
          "state": {
            "_view_name": "StyleView",
            "_model_name": "DescriptionStyleModel",
            "description_width": "",
            "_view_module": "@jupyter-widgets/base",
            "_model_module_version": "1.5.0",
            "_view_count": null,
            "_view_module_version": "1.2.0",
            "_model_module": "@jupyter-widgets/controls"
          }
        },
        "740d21ab681944f0b428d630ba1fafdb": {
          "model_module": "@jupyter-widgets/base",
          "model_name": "LayoutModel",
          "state": {
            "_view_name": "LayoutView",
            "grid_template_rows": null,
            "right": null,
            "justify_content": null,
            "_view_module": "@jupyter-widgets/base",
            "overflow": null,
            "_model_module_version": "1.2.0",
            "_view_count": null,
            "flex_flow": null,
            "width": null,
            "min_width": null,
            "border": null,
            "align_items": null,
            "bottom": null,
            "_model_module": "@jupyter-widgets/base",
            "top": null,
            "grid_column": null,
            "overflow_y": null,
            "overflow_x": null,
            "grid_auto_flow": null,
            "grid_area": null,
            "grid_template_columns": null,
            "flex": null,
            "_model_name": "LayoutModel",
            "justify_items": null,
            "grid_row": null,
            "max_height": null,
            "align_content": null,
            "visibility": null,
            "align_self": null,
            "height": null,
            "min_height": null,
            "padding": null,
            "grid_auto_rows": null,
            "grid_gap": null,
            "max_width": null,
            "order": null,
            "_view_module_version": "1.2.0",
            "grid_template_areas": null,
            "object_position": null,
            "object_fit": null,
            "grid_auto_columns": null,
            "margin": null,
            "display": null,
            "left": null
          }
        },
        "0e723745096e4d918c59719bf3168a84": {
          "model_module": "@jupyter-widgets/controls",
          "model_name": "HBoxModel",
          "state": {
            "_view_name": "HBoxView",
            "_dom_classes": [],
            "_model_name": "HBoxModel",
            "_view_module": "@jupyter-widgets/controls",
            "_model_module_version": "1.5.0",
            "_view_count": null,
            "_view_module_version": "1.5.0",
            "box_style": "",
            "layout": "IPY_MODEL_c1dfc791d29b44ee83498ca3d982de84",
            "_model_module": "@jupyter-widgets/controls",
            "children": [
              "IPY_MODEL_e8932ab19a2a4d3287251a94e2fca6aa",
              "IPY_MODEL_dbe477969f444be787bb2fce32035dcd"
            ]
          }
        },
        "c1dfc791d29b44ee83498ca3d982de84": {
          "model_module": "@jupyter-widgets/base",
          "model_name": "LayoutModel",
          "state": {
            "_view_name": "LayoutView",
            "grid_template_rows": null,
            "right": null,
            "justify_content": null,
            "_view_module": "@jupyter-widgets/base",
            "overflow": null,
            "_model_module_version": "1.2.0",
            "_view_count": null,
            "flex_flow": null,
            "width": null,
            "min_width": null,
            "border": null,
            "align_items": null,
            "bottom": null,
            "_model_module": "@jupyter-widgets/base",
            "top": null,
            "grid_column": null,
            "overflow_y": null,
            "overflow_x": null,
            "grid_auto_flow": null,
            "grid_area": null,
            "grid_template_columns": null,
            "flex": null,
            "_model_name": "LayoutModel",
            "justify_items": null,
            "grid_row": null,
            "max_height": null,
            "align_content": null,
            "visibility": null,
            "align_self": null,
            "height": null,
            "min_height": null,
            "padding": null,
            "grid_auto_rows": null,
            "grid_gap": null,
            "max_width": null,
            "order": null,
            "_view_module_version": "1.2.0",
            "grid_template_areas": null,
            "object_position": null,
            "object_fit": null,
            "grid_auto_columns": null,
            "margin": null,
            "display": null,
            "left": null
          }
        },
        "e8932ab19a2a4d3287251a94e2fca6aa": {
          "model_module": "@jupyter-widgets/controls",
          "model_name": "FloatProgressModel",
          "state": {
            "_view_name": "ProgressView",
            "style": "IPY_MODEL_8b96223314024c84b02324eb25f808e0",
            "_dom_classes": [],
            "description": "  0%",
            "_model_name": "FloatProgressModel",
            "bar_style": "danger",
            "max": 400,
            "_view_module": "@jupyter-widgets/controls",
            "_model_module_version": "1.5.0",
            "value": 0,
            "_view_count": null,
            "_view_module_version": "1.5.0",
            "orientation": "horizontal",
            "min": 0,
            "description_tooltip": null,
            "_model_module": "@jupyter-widgets/controls",
            "layout": "IPY_MODEL_7b9685dae1d84189a89a7fcf63dd2178"
          }
        },
        "dbe477969f444be787bb2fce32035dcd": {
          "model_module": "@jupyter-widgets/controls",
          "model_name": "HTMLModel",
          "state": {
            "_view_name": "HTMLView",
            "style": "IPY_MODEL_fe9262ddc234427aa765b4700ae2af82",
            "_dom_classes": [],
            "description": "",
            "_model_name": "HTMLModel",
            "placeholder": "​",
            "_view_module": "@jupyter-widgets/controls",
            "_model_module_version": "1.5.0",
            "value": " 0/400 [00:00&lt;?, ?it/s]",
            "_view_count": null,
            "_view_module_version": "1.5.0",
            "description_tooltip": null,
            "_model_module": "@jupyter-widgets/controls",
            "layout": "IPY_MODEL_848ee2f8a07c43979ed6e227f835e6e6"
          }
        },
        "8b96223314024c84b02324eb25f808e0": {
          "model_module": "@jupyter-widgets/controls",
          "model_name": "ProgressStyleModel",
          "state": {
            "_view_name": "StyleView",
            "_model_name": "ProgressStyleModel",
            "description_width": "initial",
            "_view_module": "@jupyter-widgets/base",
            "_model_module_version": "1.5.0",
            "_view_count": null,
            "_view_module_version": "1.2.0",
            "bar_color": null,
            "_model_module": "@jupyter-widgets/controls"
          }
        },
        "7b9685dae1d84189a89a7fcf63dd2178": {
          "model_module": "@jupyter-widgets/base",
          "model_name": "LayoutModel",
          "state": {
            "_view_name": "LayoutView",
            "grid_template_rows": null,
            "right": null,
            "justify_content": null,
            "_view_module": "@jupyter-widgets/base",
            "overflow": null,
            "_model_module_version": "1.2.0",
            "_view_count": null,
            "flex_flow": null,
            "width": null,
            "min_width": null,
            "border": null,
            "align_items": null,
            "bottom": null,
            "_model_module": "@jupyter-widgets/base",
            "top": null,
            "grid_column": null,
            "overflow_y": null,
            "overflow_x": null,
            "grid_auto_flow": null,
            "grid_area": null,
            "grid_template_columns": null,
            "flex": null,
            "_model_name": "LayoutModel",
            "justify_items": null,
            "grid_row": null,
            "max_height": null,
            "align_content": null,
            "visibility": null,
            "align_self": null,
            "height": null,
            "min_height": null,
            "padding": null,
            "grid_auto_rows": null,
            "grid_gap": null,
            "max_width": null,
            "order": null,
            "_view_module_version": "1.2.0",
            "grid_template_areas": null,
            "object_position": null,
            "object_fit": null,
            "grid_auto_columns": null,
            "margin": null,
            "display": null,
            "left": null
          }
        },
        "fe9262ddc234427aa765b4700ae2af82": {
          "model_module": "@jupyter-widgets/controls",
          "model_name": "DescriptionStyleModel",
          "state": {
            "_view_name": "StyleView",
            "_model_name": "DescriptionStyleModel",
            "description_width": "",
            "_view_module": "@jupyter-widgets/base",
            "_model_module_version": "1.5.0",
            "_view_count": null,
            "_view_module_version": "1.2.0",
            "_model_module": "@jupyter-widgets/controls"
          }
        },
        "848ee2f8a07c43979ed6e227f835e6e6": {
          "model_module": "@jupyter-widgets/base",
          "model_name": "LayoutModel",
          "state": {
            "_view_name": "LayoutView",
            "grid_template_rows": null,
            "right": null,
            "justify_content": null,
            "_view_module": "@jupyter-widgets/base",
            "overflow": null,
            "_model_module_version": "1.2.0",
            "_view_count": null,
            "flex_flow": null,
            "width": null,
            "min_width": null,
            "border": null,
            "align_items": null,
            "bottom": null,
            "_model_module": "@jupyter-widgets/base",
            "top": null,
            "grid_column": null,
            "overflow_y": null,
            "overflow_x": null,
            "grid_auto_flow": null,
            "grid_area": null,
            "grid_template_columns": null,
            "flex": null,
            "_model_name": "LayoutModel",
            "justify_items": null,
            "grid_row": null,
            "max_height": null,
            "align_content": null,
            "visibility": null,
            "align_self": null,
            "height": null,
            "min_height": null,
            "padding": null,
            "grid_auto_rows": null,
            "grid_gap": null,
            "max_width": null,
            "order": null,
            "_view_module_version": "1.2.0",
            "grid_template_areas": null,
            "object_position": null,
            "object_fit": null,
            "grid_auto_columns": null,
            "margin": null,
            "display": null,
            "left": null
          }
        }
      }
    }
  },
  "cells": [
    {
      "cell_type": "code",
      "metadata": {
        "colab": {
          "base_uri": "https://localhost:8080/"
        },
        "id": "D9UO2JxYAHLO",
        "outputId": "58602a05-5b6e-480e-8ea6-7914791f04e9"
      },
      "source": [
        "! pip install albumentations==0.4.6\n",
        "# 1. 라이브러리 임포트\n",
        "# 2. 코랩 연결 부분\n",
        "# 3. 클래스 , 함수 정의\n",
        "# 4. 모델 초기화\n",
        "# 5. train\n",
        "# 6. test\n",
        "# 7. 파일 저장"
      ],
      "execution_count": 1,
      "outputs": [
        {
          "output_type": "stream",
          "text": [
            "Collecting albumentations==0.4.6\n",
            "\u001b[?25l  Downloading https://files.pythonhosted.org/packages/92/33/1c459c2c9a4028ec75527eff88bc4e2d256555189f42af4baf4d7bd89233/albumentations-0.4.6.tar.gz (117kB)\n",
            "\u001b[K     |████████████████████████████████| 122kB 18.5MB/s \n",
            "\u001b[?25hRequirement already satisfied: numpy>=1.11.1 in /usr/local/lib/python3.7/dist-packages (from albumentations==0.4.6) (1.19.5)\n",
            "Requirement already satisfied: scipy in /usr/local/lib/python3.7/dist-packages (from albumentations==0.4.6) (1.4.1)\n",
            "Collecting imgaug>=0.4.0\n",
            "\u001b[?25l  Downloading https://files.pythonhosted.org/packages/66/b1/af3142c4a85cba6da9f4ebb5ff4e21e2616309552caca5e8acefe9840622/imgaug-0.4.0-py2.py3-none-any.whl (948kB)\n",
            "\u001b[K     |████████████████████████████████| 952kB 29.3MB/s \n",
            "\u001b[?25hRequirement already satisfied: PyYAML in /usr/local/lib/python3.7/dist-packages (from albumentations==0.4.6) (3.13)\n",
            "Requirement already satisfied: opencv-python>=4.1.1 in /usr/local/lib/python3.7/dist-packages (from albumentations==0.4.6) (4.1.2.30)\n",
            "Requirement already satisfied: scikit-image>=0.14.2 in /usr/local/lib/python3.7/dist-packages (from imgaug>=0.4.0->albumentations==0.4.6) (0.16.2)\n",
            "Requirement already satisfied: imageio in /usr/local/lib/python3.7/dist-packages (from imgaug>=0.4.0->albumentations==0.4.6) (2.4.1)\n",
            "Requirement already satisfied: six in /usr/local/lib/python3.7/dist-packages (from imgaug>=0.4.0->albumentations==0.4.6) (1.15.0)\n",
            "Requirement already satisfied: Shapely in /usr/local/lib/python3.7/dist-packages (from imgaug>=0.4.0->albumentations==0.4.6) (1.7.1)\n",
            "Requirement already satisfied: matplotlib in /usr/local/lib/python3.7/dist-packages (from imgaug>=0.4.0->albumentations==0.4.6) (3.2.2)\n",
            "Requirement already satisfied: Pillow in /usr/local/lib/python3.7/dist-packages (from imgaug>=0.4.0->albumentations==0.4.6) (7.0.0)\n",
            "Requirement already satisfied: networkx>=2.0 in /usr/local/lib/python3.7/dist-packages (from scikit-image>=0.14.2->imgaug>=0.4.0->albumentations==0.4.6) (2.5)\n",
            "Requirement already satisfied: PyWavelets>=0.4.0 in /usr/local/lib/python3.7/dist-packages (from scikit-image>=0.14.2->imgaug>=0.4.0->albumentations==0.4.6) (1.1.1)\n",
            "Requirement already satisfied: pyparsing!=2.0.4,!=2.1.2,!=2.1.6,>=2.0.1 in /usr/local/lib/python3.7/dist-packages (from matplotlib->imgaug>=0.4.0->albumentations==0.4.6) (2.4.7)\n",
            "Requirement already satisfied: python-dateutil>=2.1 in /usr/local/lib/python3.7/dist-packages (from matplotlib->imgaug>=0.4.0->albumentations==0.4.6) (2.8.1)\n",
            "Requirement already satisfied: cycler>=0.10 in /usr/local/lib/python3.7/dist-packages (from matplotlib->imgaug>=0.4.0->albumentations==0.4.6) (0.10.0)\n",
            "Requirement already satisfied: kiwisolver>=1.0.1 in /usr/local/lib/python3.7/dist-packages (from matplotlib->imgaug>=0.4.0->albumentations==0.4.6) (1.3.1)\n",
            "Requirement already satisfied: decorator>=4.3.0 in /usr/local/lib/python3.7/dist-packages (from networkx>=2.0->scikit-image>=0.14.2->imgaug>=0.4.0->albumentations==0.4.6) (4.4.2)\n",
            "Building wheels for collected packages: albumentations\n",
            "  Building wheel for albumentations (setup.py) ... \u001b[?25l\u001b[?25hdone\n",
            "  Created wheel for albumentations: filename=albumentations-0.4.6-cp37-none-any.whl size=65163 sha256=e1d7e8c2a3b9e25969fb5e22d784479d36a30b9c3850485f03c3ab8f0d3021ab\n",
            "  Stored in directory: /root/.cache/pip/wheels/c7/f4/89/56d1bee5c421c36c1a951eeb4adcc32fbb82f5344c086efa14\n",
            "Successfully built albumentations\n",
            "Installing collected packages: imgaug, albumentations\n",
            "  Found existing installation: imgaug 0.2.9\n",
            "    Uninstalling imgaug-0.2.9:\n",
            "      Successfully uninstalled imgaug-0.2.9\n",
            "  Found existing installation: albumentations 0.1.12\n",
            "    Uninstalling albumentations-0.1.12:\n",
            "      Successfully uninstalled albumentations-0.1.12\n",
            "Successfully installed albumentations-0.4.6 imgaug-0.4.0\n"
          ],
          "name": "stdout"
        }
      ]
    },
    {
      "cell_type": "code",
      "metadata": {
        "id": "OYbQroCoYa90"
      },
      "source": [
        "def draw_keypoints(\n",
        "    image: np.ndarray,\n",
        "    keypoints: np.ndarray,\n",
        "    edges: List[Tuple[int, int]] = None,\n",
        "    keypoint_names: Dict[int, str] = None, \n",
        "    boxes: bool = True,\n",
        "    dpi: int = 200\n",
        ") -> None:\n",
        "    \"\"\"\n",
        "    Args:\n",
        "        image (ndarray): [H, W, C]\n",
        "        keypoints (ndarray): [N, 3]\n",
        "        edges (List(Tuple(int, int))): \n",
        "    \"\"\"\n",
        "    np.random.seed(42)\n",
        "    colors = {k: tuple(map(int, np.random.randint(0, 255, 3))) for k in range(24)}\n",
        "\n",
        "    if boxes:\n",
        "        x1, y1 = min(keypoints[:, 0]), min(keypoints[:, 1])\n",
        "        x2, y2 = max(keypoints[:, 0]), max(keypoints[:, 1])\n",
        "        cv2.rectangle(image, (x1, y1), (x2, y2), (255, 100, 91), thickness=3)\n",
        "\n",
        "    for i, keypoint in enumerate(keypoints):\n",
        "        cv2.circle(\n",
        "            image, \n",
        "            tuple(keypoint), \n",
        "            3,(255,0,0), thickness=3, lineType=cv2.FILLED)\n",
        "\n",
        "        if keypoint_names is not None:\n",
        "            cv2.putText(\n",
        "                image, \n",
        "                f'{i}: {keypoint_names[i]}', \n",
        "                tuple(keypoint), \n",
        "                cv2.FONT_HERSHEY_SIMPLEX, 0.5, (0, 0, 0), 1)\n",
        "\n",
        "    if edges is not None:\n",
        "        for i, edge in enumerate(edges):\n",
        "            cv2.line(\n",
        "                image, \n",
        "                tuple(keypoints[edge[0]]), \n",
        "                tuple(keypoints[edge[1]]),\n",
        "                colors.get(edge[0]), 3, lineType=cv2.LINE_AA)\n",
        "\n",
        "    fig, ax = plt.subplots(dpi=dpi)\n",
        "    ax.imshow(image)\n",
        "    ax.axis('off')\n",
        "    plt.show()\n",
        "    keypoints = target_array\n",
        "keypoint_names = {\n",
        "    0: 'nose',\n",
        "    1: 'left_eye',\n",
        "    2: 'right_eye',\n",
        "    3: 'left_ear', \n",
        "    4: 'right_ear', \n",
        "    5: 'left_shoulder', \n",
        "    6: 'right_shoulder',\n",
        "    7: 'left_elbow', \n",
        "    8: 'right_elbow',\n",
        "    9: 'left_wrist', \n",
        "    10: 'right_wrist',\n",
        "    11: 'left_hip', \n",
        "    12: 'right_hip',\n",
        "    13: 'left_knee', \n",
        "    14: 'right_knee',\n",
        "    15: 'left_ankle', \n",
        "    16: 'right_ankle',\n",
        "    17: 'neck', \n",
        "    18: 'left_palm', \n",
        "    19: 'right_palm', \n",
        "    20: 'spine2(back)',\n",
        "    21: 'spine1(waist)', \n",
        "    22: 'left_instep',\n",
        "    23: 'right_instep'\n",
        "}\n",
        "\n",
        "edges = [\n",
        "    (0, 1), (0, 2), (2, 4), (1, 3), (6, 8), (8, 10), (9, 18),\n",
        "    (10, 19), (5, 7), (7, 9), (11, 13), (13, 15), (12, 14),\n",
        "    (14, 16), (15, 22), (16, 23), (20, 21), (5, 6), (5, 11),\n",
        "    (6, 12), (11, 12), (17, 20), (20, 21), \n",
        "]\n",
        "#draw_keypoints(np.array(train_image).transpose(1,2,0), keypoints, edges, keypoint_names, boxes=False, dpi=400)"
      ],
      "execution_count": 177,
      "outputs": []
    },
    {
      "cell_type": "code",
      "metadata": {
        "id": "zvKRcPXmFbjW"
      },
      "source": [
        "-|import torch,gc\n",
        "import torch.nn as nn\n",
        "from torchvision.ops import MultiScaleRoIAlign\n",
        "import torch.optim as optim\n",
        "from torch.utils.data import DataLoader, Dataset\n",
        "import torchvision.transforms as transforms\n",
        "from torchvision.models.detection.backbone_utils import resnet_fpn_backbone\n",
        "import torchvision\n",
        "import matplotlib.pyplot as plt\n",
        "import cv2\n",
        "import PIL\n",
        "import PIL.Image\n",
        "import numpy as np\n",
        "import os\n",
        "import pandas as pd\n",
        "from typing import Tuple, List, Sequence, Callable, Dict\n",
        "import albumentations as A\n",
        "from torchvision.models.detection import KeypointRCNN\n",
        "from torch import Tensor\n",
        "from albumentations.pytorch import ToTensorV2\n",
        "from tqdm.notebook import tqdm"
      ],
      "execution_count": 2,
      "outputs": []
    },
    {
      "cell_type": "code",
      "metadata": {
        "id": "55SCipZKD4Av"
      },
      "source": [
        "gc.collect()\n",
        "torch.cuda.empty_cache()\n",
        "device = 'cuda:0' if torch.cuda.is_available() else 'cpu'"
      ],
      "execution_count": 4,
      "outputs": []
    },
    {
      "cell_type": "code",
      "metadata": {
        "colab": {
          "base_uri": "https://localhost:8080/"
        },
        "id": "Jsrq745eAy5k",
        "outputId": "377d5382-cf55-41d0-adf6-bb11ce8335c7"
      },
      "source": [
        "from google.colab import drive\n",
        "drive.mount('/content/drive', force_remount=True)\n",
        "root_dir = '/content/drive/MyDrive/'"
      ],
      "execution_count": 10,
      "outputs": [
        {
          "output_type": "stream",
          "text": [
            "Mounted at /content/drive\n"
          ],
          "name": "stdout"
        }
      ]
    },
    {
      "cell_type": "code",
      "metadata": {
        "id": "IPPO8rFTANWs"
      },
      "source": [
        "learning_rate = 1e-4\n",
        "batch_size = 4\n",
        "num_epochs = 10\n",
        "test_dir = 'data/test_imgs'\n",
        "train_dir = \"/data/train_imgs\"\n",
        "train_df_csv = \"/data/train_df.csv\"\n",
        "test_imgs = os.listdir(os.path.join(root_dirtest_dir))"
      ],
      "execution_count": 24,
      "outputs": []
    },
    {
      "cell_type": "code",
      "metadata": {
        "id": "3w_UC1rXSrR7"
      },
      "source": [
        "def collate_fn(batch: torch.Tensor) -> Tuple:\n",
        "    return tuple(zip(*batch))"
      ],
      "execution_count": 25,
      "outputs": []
    },
    {
      "cell_type": "code",
      "metadata": {
        "id": "EpgIox1NAtz4"
      },
      "source": [
        "class KeypointDataset(Dataset):\n",
        "    def __init__(self, data_dir, label_path, phase, transforms):\n",
        "        self.data_dir = data_dir\n",
        "        self.df = pd.read_csv(label_path)\n",
        "        self.transforms = transforms\n",
        "        self.phase= phase\n",
        "    def __len__(self) -> int:\n",
        "        return self.df.shape[0]\n",
        "    \n",
        "    def __getitem__(self, index) -> Tuple[Tensor, Dict]:\n",
        "        image_id = self.df.iloc[index, 0]\n",
        "        labels = np.array([1])\n",
        "        keypoints = self.df.iloc[index, 1:].values.reshape(-1, 2).astype(np.int64)\n",
        "\n",
        "        x1, y1 = min(keypoints[:, 0]), min(keypoints[:, 1])\n",
        "        x2, y2 = max(keypoints[:, 0]), max(keypoints[:, 1])\n",
        "        boxes = np.array([[x1, y1, x2, y2]], dtype=np.int64)\n",
        "\n",
        "        image = cv2.imread(os.path.join(self.data_dir, image_id), cv2.COLOR_BGR2RGB)\n",
        "\n",
        "        targets ={\n",
        "            'image': image,\n",
        "            'bboxes': boxes,\n",
        "            'labels': labels,\n",
        "            'keypoints': keypoints\n",
        "        }\n",
        "\n",
        "        if self.transforms is not None:\n",
        "          targets = self.transforms[self.phase](**targets)\n",
        "        \n",
        "        image = targets['image']\n",
        "        image = image / 255.0\n",
        "\n",
        "        targets = {\n",
        "            'labels': torch.as_tensor(targets['labels'], dtype=torch.int64),\n",
        "            'boxes': torch.as_tensor(targets['bboxes'], dtype=torch.float32),\n",
        "            'keypoints': torch.as_tensor(\n",
        "                np.concatenate([targets['keypoints'], np.ones((24, 1))], axis=1)[np.newaxis], dtype=torch.float32\n",
        "            )\n",
        "        }\n",
        "\n",
        "        return image, targets"
      ],
      "execution_count": 97,
      "outputs": []
    },
    {
      "cell_type": "code",
      "metadata": {
        "id": "3k10v5KC_5IJ"
      },
      "source": [
        "class TestDataset(Dataset):\n",
        "    \"\"\"__init__ and __len__ functions are the same as in TorchvisionDataset\"\"\"\n",
        "    def __init__(self, data_dir, imgs, phase, transforms=None):\n",
        "        self.data_dir = data_dir\n",
        "        self.imgs = imgs\n",
        "        self.phase = phase\n",
        "        self.transforms = transforms\n",
        "\n",
        "    def __getitem__(self, idx):\n",
        "        filename = self.imgs[idx]\n",
        "        # Read an image with OpenCV\n",
        "        img = cv2.imread(os.path.join(self.data_dir, self.imgs[idx]))\n",
        "\n",
        "        if self.transforms:\n",
        "            augmented = self.transforms[self.phase](image=img)\n",
        "            img = augmented['image']\n",
        "\n",
        "        img = img / 255.0\n",
        "        return filename, img\n",
        "    \n",
        "    def __len__(self):\n",
        "        return len(self.imgs)\n",
        "  \n"
      ],
      "execution_count": 98,
      "outputs": []
    },
    {
      "cell_type": "code",
      "metadata": {
        "id": "gB8TRdM0P785"
      },
      "source": [
        "A_transforms = {\n",
        "    'train':\n",
        "        A.Compose([\n",
        "            A.Resize(150, 300, always_apply=True),\n",
        "            A.Rotate(limit=40,p=0.9),\n",
        "            A.OneOf([A.HorizontalFlip(p=1),\n",
        "                     A.RandomRotate90(p=1),\n",
        "                     A.VerticalFlip(p=1)            \n",
        "            ], p=0.5),\n",
        "            A.OneOf([A.MotionBlur(p=1),\n",
        "                     A.GaussNoise(p=1)                 \n",
        "            ], p=0.5),\n",
        "            #A.Normalize([0.485, 0.456, 0.406], [0.229, 0.224, 0.225]),\n",
        "            ToTensorV2()\n",
        "        ],  bbox_params=A.BboxParams(format='pascal_voc', label_fields=['labels']),\n",
        "            keypoint_params=A.KeypointParams(format='xy')),\n",
        "    \n",
        "    'val':\n",
        "        A.Compose([\n",
        "            A.Resize(150, 300, always_apply=True),\n",
        "            #A.Normalize([0.485, 0.456, 0.406], [0.229, 0.224, 0.225]),\n",
        "            ToTensorV2()\n",
        "        ], keypoint_params=A.KeypointParams(format='xy')),\n",
        "    \n",
        "    'test':\n",
        "        A.Compose([\n",
        "            A.Resize(150, 300, always_apply=True),\n",
        "          \n",
        "          #  A.Normalize([0.485, 0.456, 0.406], [0.229, 0.224, 0.225]),\n",
        "            ToTensorV2()\n",
        "        ])\n",
        "}"
      ],
      "execution_count": 99,
      "outputs": []
    },
    {
      "cell_type": "code",
      "metadata": {
        "id": "D63y3IAbAxB9"
      },
      "source": [
        "dataset = KeypointDataset(data_dir = os.path.join(root_dir,train_dir),label_path = os.path.join(root_dir,train_df_csv) ,transforms=A_transforms,phase=\"train\")\n",
        "train_loader = DataLoader(dataset=dataset,batch_size=batch_size,shuffle=True,num_workers=2, collate_fn=collate_fn)\n",
        "    \n",
        "test_data = TestDataset(os.path.join(root_dir,test_dir), test_imgs,transforms=A_transforms,  phase='test')\n",
        "test_loader = DataLoader(test_data, batch_size=batch_size, shuffle=False)"
      ],
      "execution_count": 100,
      "outputs": []
    },
    {
      "cell_type": "code",
      "metadata": {
        "id": "b9mqiuFyBGS8"
      },
      "source": [
        "train_image , target = dataset.__getitem__(0)\n",
        "np.array(train_image).shape\n",
        "target_array = np.array(target['keypoints'][0][:,:2])"
      ],
      "execution_count": 208,
      "outputs": []
    },
    {
      "cell_type": "code",
      "metadata": {
        "colab": {
          "base_uri": "https://localhost:8080/",
          "height": 238
        },
        "id": "uyCHqeVsBUIJ",
        "outputId": "22171ae5-ce5e-4a94-c1a1-fdad7e09b113"
      },
      "source": [
        "# train 데이터 확인\n",
        "plt.imshow(np.array(train_image).transpose(1,2,0))"
      ],
      "execution_count": 209,
      "outputs": [
        {
          "output_type": "execute_result",
          "data": {
            "text/plain": [
              "<matplotlib.image.AxesImage at 0x7f7d845261d0>"
            ]
          },
          "metadata": {
            "tags": []
          },
          "execution_count": 209
        },
        {
          "output_type": "display_data",
          "data": {
            "image/png": "[encoded data removed]",
            "text/plain": [
              "<Figure size 432x288 with 1 Axes>"
            ]
          },
          "metadata": {
            "tags": [],
            "needs_background": "light"
          }
        }
      ]
    },
    {
      "cell_type": "code",
      "metadata": {
        "id": "hMyqRgNLBiGF"
      },
      "source": [
        "filename, test_img = test_data.__getitem__(0)"
      ],
      "execution_count": 109,
      "outputs": []
    },
    {
      "cell_type": "code",
      "metadata": {
        "colab": {
          "base_uri": "https://localhost:8080/",
          "height": 238
        },
        "id": "WF2r470PDtnc",
        "outputId": "3b795435-7435-4ef8-ab73-67f9f04ce24b"
      },
      "source": [
        "plt.imshow(np.array(test_img).transpose(1,2,0))"
      ],
      "execution_count": 110,
      "outputs": [
        {
          "output_type": "execute_result",
          "data": {
            "text/plain": [
              "<matplotlib.image.AxesImage at 0x7f7f2cd2c710>"
            ]
          },
          "metadata": {
            "tags": []
          },
          "execution_count": 110
        },
        {
          "output_type": "display_data",
          "data": {
            "image/png": "[encoded data removed]",
            "text/plain": [
              "<Figure size 432x288 with 1 Axes>"
            ]
          },
          "metadata": {
            "tags": [],
            "needs_background": "light"
          }
        }
      ]
    },
    {
      "cell_type": "code",
      "metadata": {
        "id": "RENpSKfaBfRp"
      },
      "source": [
        "def get_model() -> nn.Module:\n",
        "    backbone = resnet_fpn_backbone('resnet101', pretrained=True)\n",
        "    roi_pooler = MultiScaleRoIAlign(\n",
        "        featmap_names=['0', '1', '2', '3'],\n",
        "        output_size=7,\n",
        "        sampling_ratio=2\n",
        "    )\n",
        "\n",
        "    keypoint_roi_pooler = MultiScaleRoIAlign(\n",
        "        featmap_names=['0', '1', '2', '3'],\n",
        "        output_size=14,\n",
        "        sampling_ratio=2\n",
        "    )\n",
        "\n",
        "    model = KeypointRCNN(\n",
        "        backbone, \n",
        "        num_classes=2,\n",
        "        num_keypoints=24,\n",
        "        box_roi_pool=roi_pooler,\n",
        "        keypoint_roi_pool=keypoint_roi_pooler\n",
        "    )\n",
        "\n",
        "    return model"
      ],
      "execution_count": 105,
      "outputs": []
    },
    {
      "cell_type": "code",
      "metadata": {
        "id": "uFEQIr04BUkV"
      },
      "source": [
        "# loss and optim\n",
        "model = get_model()\n",
        "model.cuda()\n",
        "criterion = nn.MSELoss()\n",
        "optimizer = optim.Adam(model.parameters(),lr=learning_rate)\n",
        "#optimizer = optim.SGD(model.parameters(), lr=1e-4, momentum=0.9, weight_decay=5e-4)\n",
        "#patience만큼 loss가 향상되지 않으면 learning_rate에 factor을 곱해줌 \n",
        "scheduler = optim.lr_scheduler.ReduceLROnPlateau(optimizer,factor = 0.1, patience = 1, verbose=True)"
      ],
      "execution_count": 215,
      "outputs": []
    },
    {
      "cell_type": "markdown",
      "metadata": {
        "id": "NcbyAMmJHTb5"
      },
      "source": [
        ""
      ]
    },
    {
      "cell_type": "code",
      "metadata": {
        "colab": {
          "base_uri": "https://localhost:8080/",
          "height": 349
        },
        "id": "c18NK2DuDCo8",
        "outputId": "9e7ab96c-6920-49d1-82ac-18436ec3e4b7"
      },
      "source": [
        "model(images,targets)['loss_keypoint']"
      ],
      "execution_count": 33,
      "outputs": [
        {
          "output_type": "error",
          "ename": "RuntimeError",
          "evalue": "ignored",
          "traceback": [
            "\u001b[0;31m---------------------------------------------------------------------------\u001b[0m",
            "\u001b[0;31mRuntimeError\u001b[0m                              Traceback (most recent call last)",
            "\u001b[0;32m<ipython-input-33-4283d6dc2069>\u001b[0m in \u001b[0;36m<module>\u001b[0;34m()\u001b[0m\n\u001b[0;32m----> 1\u001b[0;31m \u001b[0mmodel\u001b[0m\u001b[0;34m(\u001b[0m\u001b[0mimages\u001b[0m\u001b[0;34m,\u001b[0m\u001b[0mtargets\u001b[0m\u001b[0;34m)\u001b[0m\u001b[0;34m[\u001b[0m\u001b[0;34m'loss_keypoint'\u001b[0m\u001b[0;34m]\u001b[0m\u001b[0;34m\u001b[0m\u001b[0;34m\u001b[0m\u001b[0m\n\u001b[0m",
            "\u001b[0;32m/usr/local/lib/python3.7/dist-packages/torch/nn/modules/module.py\u001b[0m in \u001b[0;36m_call_impl\u001b[0;34m(self, *input, **kwargs)\u001b[0m\n\u001b[1;32m    887\u001b[0m             \u001b[0mresult\u001b[0m \u001b[0;34m=\u001b[0m \u001b[0mself\u001b[0m\u001b[0;34m.\u001b[0m\u001b[0m_slow_forward\u001b[0m\u001b[0;34m(\u001b[0m\u001b[0;34m*\u001b[0m\u001b[0minput\u001b[0m\u001b[0;34m,\u001b[0m \u001b[0;34m**\u001b[0m\u001b[0mkwargs\u001b[0m\u001b[0;34m)\u001b[0m\u001b[0;34m\u001b[0m\u001b[0;34m\u001b[0m\u001b[0m\n\u001b[1;32m    888\u001b[0m         \u001b[0;32melse\u001b[0m\u001b[0;34m:\u001b[0m\u001b[0;34m\u001b[0m\u001b[0;34m\u001b[0m\u001b[0m\n\u001b[0;32m--> 889\u001b[0;31m             \u001b[0mresult\u001b[0m \u001b[0;34m=\u001b[0m \u001b[0mself\u001b[0m\u001b[0;34m.\u001b[0m\u001b[0mforward\u001b[0m\u001b[0;34m(\u001b[0m\u001b[0;34m*\u001b[0m\u001b[0minput\u001b[0m\u001b[0;34m,\u001b[0m \u001b[0;34m**\u001b[0m\u001b[0mkwargs\u001b[0m\u001b[0;34m)\u001b[0m\u001b[0;34m\u001b[0m\u001b[0;34m\u001b[0m\u001b[0m\n\u001b[0m\u001b[1;32m    890\u001b[0m         for hook in itertools.chain(\n\u001b[1;32m    891\u001b[0m                 \u001b[0m_global_forward_hooks\u001b[0m\u001b[0;34m.\u001b[0m\u001b[0mvalues\u001b[0m\u001b[0;34m(\u001b[0m\u001b[0;34m)\u001b[0m\u001b[0;34m,\u001b[0m\u001b[0;34m\u001b[0m\u001b[0;34m\u001b[0m\u001b[0m\n",
            "\u001b[0;32m/usr/local/lib/python3.7/dist-packages/torchvision/models/detection/generalized_rcnn.py\u001b[0m in \u001b[0;36mforward\u001b[0;34m(self, images, targets)\u001b[0m\n\u001b[1;32m     92\u001b[0m                                      .format(degen_bb, target_idx))\n\u001b[1;32m     93\u001b[0m \u001b[0;34m\u001b[0m\u001b[0m\n\u001b[0;32m---> 94\u001b[0;31m         \u001b[0mfeatures\u001b[0m \u001b[0;34m=\u001b[0m \u001b[0mself\u001b[0m\u001b[0;34m.\u001b[0m\u001b[0mbackbone\u001b[0m\u001b[0;34m(\u001b[0m\u001b[0mimages\u001b[0m\u001b[0;34m.\u001b[0m\u001b[0mtensors\u001b[0m\u001b[0;34m)\u001b[0m\u001b[0;34m\u001b[0m\u001b[0;34m\u001b[0m\u001b[0m\n\u001b[0m\u001b[1;32m     95\u001b[0m         \u001b[0;32mif\u001b[0m \u001b[0misinstance\u001b[0m\u001b[0;34m(\u001b[0m\u001b[0mfeatures\u001b[0m\u001b[0;34m,\u001b[0m \u001b[0mtorch\u001b[0m\u001b[0;34m.\u001b[0m\u001b[0mTensor\u001b[0m\u001b[0;34m)\u001b[0m\u001b[0;34m:\u001b[0m\u001b[0;34m\u001b[0m\u001b[0;34m\u001b[0m\u001b[0m\n\u001b[1;32m     96\u001b[0m             \u001b[0mfeatures\u001b[0m \u001b[0;34m=\u001b[0m \u001b[0mOrderedDict\u001b[0m\u001b[0;34m(\u001b[0m\u001b[0;34m[\u001b[0m\u001b[0;34m(\u001b[0m\u001b[0;34m'0'\u001b[0m\u001b[0;34m,\u001b[0m \u001b[0mfeatures\u001b[0m\u001b[0;34m)\u001b[0m\u001b[0;34m]\u001b[0m\u001b[0;34m)\u001b[0m\u001b[0;34m\u001b[0m\u001b[0;34m\u001b[0m\u001b[0m\n",
            "\u001b[0;32m/usr/local/lib/python3.7/dist-packages/torch/nn/modules/module.py\u001b[0m in \u001b[0;36m_call_impl\u001b[0;34m(self, *input, **kwargs)\u001b[0m\n\u001b[1;32m    887\u001b[0m             \u001b[0mresult\u001b[0m \u001b[0;34m=\u001b[0m \u001b[0mself\u001b[0m\u001b[0;34m.\u001b[0m\u001b[0m_slow_forward\u001b[0m\u001b[0;34m(\u001b[0m\u001b[0;34m*\u001b[0m\u001b[0minput\u001b[0m\u001b[0;34m,\u001b[0m \u001b[0;34m**\u001b[0m\u001b[0mkwargs\u001b[0m\u001b[0;34m)\u001b[0m\u001b[0;34m\u001b[0m\u001b[0;34m\u001b[0m\u001b[0m\n\u001b[1;32m    888\u001b[0m         \u001b[0;32melse\u001b[0m\u001b[0;34m:\u001b[0m\u001b[0;34m\u001b[0m\u001b[0;34m\u001b[0m\u001b[0m\n\u001b[0;32m--> 889\u001b[0;31m             \u001b[0mresult\u001b[0m \u001b[0;34m=\u001b[0m \u001b[0mself\u001b[0m\u001b[0;34m.\u001b[0m\u001b[0mforward\u001b[0m\u001b[0;34m(\u001b[0m\u001b[0;34m*\u001b[0m\u001b[0minput\u001b[0m\u001b[0;34m,\u001b[0m \u001b[0;34m**\u001b[0m\u001b[0mkwargs\u001b[0m\u001b[0;34m)\u001b[0m\u001b[0;34m\u001b[0m\u001b[0;34m\u001b[0m\u001b[0m\n\u001b[0m\u001b[1;32m    890\u001b[0m         for hook in itertools.chain(\n\u001b[1;32m    891\u001b[0m                 \u001b[0m_global_forward_hooks\u001b[0m\u001b[0;34m.\u001b[0m\u001b[0mvalues\u001b[0m\u001b[0;34m(\u001b[0m\u001b[0;34m)\u001b[0m\u001b[0;34m,\u001b[0m\u001b[0;34m\u001b[0m\u001b[0;34m\u001b[0m\u001b[0m\n",
            "\u001b[0;32m/usr/local/lib/python3.7/dist-packages/torchvision/models/detection/backbone_utils.py\u001b[0m in \u001b[0;36mforward\u001b[0;34m(self, x)\u001b[0m\n\u001b[1;32m     42\u001b[0m \u001b[0;34m\u001b[0m\u001b[0m\n\u001b[1;32m     43\u001b[0m     \u001b[0;32mdef\u001b[0m \u001b[0mforward\u001b[0m\u001b[0;34m(\u001b[0m\u001b[0mself\u001b[0m\u001b[0;34m,\u001b[0m \u001b[0mx\u001b[0m\u001b[0;34m)\u001b[0m\u001b[0;34m:\u001b[0m\u001b[0;34m\u001b[0m\u001b[0;34m\u001b[0m\u001b[0m\n\u001b[0;32m---> 44\u001b[0;31m         \u001b[0mx\u001b[0m \u001b[0;34m=\u001b[0m \u001b[0mself\u001b[0m\u001b[0;34m.\u001b[0m\u001b[0mbody\u001b[0m\u001b[0;34m(\u001b[0m\u001b[0mx\u001b[0m\u001b[0;34m)\u001b[0m\u001b[0;34m\u001b[0m\u001b[0;34m\u001b[0m\u001b[0m\n\u001b[0m\u001b[1;32m     45\u001b[0m         \u001b[0mx\u001b[0m \u001b[0;34m=\u001b[0m \u001b[0mself\u001b[0m\u001b[0;34m.\u001b[0m\u001b[0mfpn\u001b[0m\u001b[0;34m(\u001b[0m\u001b[0mx\u001b[0m\u001b[0;34m)\u001b[0m\u001b[0;34m\u001b[0m\u001b[0;34m\u001b[0m\u001b[0m\n\u001b[1;32m     46\u001b[0m         \u001b[0;32mreturn\u001b[0m \u001b[0mx\u001b[0m\u001b[0;34m\u001b[0m\u001b[0;34m\u001b[0m\u001b[0m\n",
            "\u001b[0;32m/usr/local/lib/python3.7/dist-packages/torch/nn/modules/module.py\u001b[0m in \u001b[0;36m_call_impl\u001b[0;34m(self, *input, **kwargs)\u001b[0m\n\u001b[1;32m    887\u001b[0m             \u001b[0mresult\u001b[0m \u001b[0;34m=\u001b[0m \u001b[0mself\u001b[0m\u001b[0;34m.\u001b[0m\u001b[0m_slow_forward\u001b[0m\u001b[0;34m(\u001b[0m\u001b[0;34m*\u001b[0m\u001b[0minput\u001b[0m\u001b[0;34m,\u001b[0m \u001b[0;34m**\u001b[0m\u001b[0mkwargs\u001b[0m\u001b[0;34m)\u001b[0m\u001b[0;34m\u001b[0m\u001b[0;34m\u001b[0m\u001b[0m\n\u001b[1;32m    888\u001b[0m         \u001b[0;32melse\u001b[0m\u001b[0;34m:\u001b[0m\u001b[0;34m\u001b[0m\u001b[0;34m\u001b[0m\u001b[0m\n\u001b[0;32m--> 889\u001b[0;31m             \u001b[0mresult\u001b[0m \u001b[0;34m=\u001b[0m \u001b[0mself\u001b[0m\u001b[0;34m.\u001b[0m\u001b[0mforward\u001b[0m\u001b[0;34m(\u001b[0m\u001b[0;34m*\u001b[0m\u001b[0minput\u001b[0m\u001b[0;34m,\u001b[0m \u001b[0;34m**\u001b[0m\u001b[0mkwargs\u001b[0m\u001b[0;34m)\u001b[0m\u001b[0;34m\u001b[0m\u001b[0;34m\u001b[0m\u001b[0m\n\u001b[0m\u001b[1;32m    890\u001b[0m         for hook in itertools.chain(\n\u001b[1;32m    891\u001b[0m                 \u001b[0m_global_forward_hooks\u001b[0m\u001b[0;34m.\u001b[0m\u001b[0mvalues\u001b[0m\u001b[0;34m(\u001b[0m\u001b[0;34m)\u001b[0m\u001b[0;34m,\u001b[0m\u001b[0;34m\u001b[0m\u001b[0;34m\u001b[0m\u001b[0m\n",
            "\u001b[0;32m/usr/local/lib/python3.7/dist-packages/torchvision/models/_utils.py\u001b[0m in \u001b[0;36mforward\u001b[0;34m(self, x)\u001b[0m\n\u001b[1;32m     61\u001b[0m         \u001b[0mout\u001b[0m \u001b[0;34m=\u001b[0m \u001b[0mOrderedDict\u001b[0m\u001b[0;34m(\u001b[0m\u001b[0;34m)\u001b[0m\u001b[0;34m\u001b[0m\u001b[0;34m\u001b[0m\u001b[0m\n\u001b[1;32m     62\u001b[0m         \u001b[0;32mfor\u001b[0m \u001b[0mname\u001b[0m\u001b[0;34m,\u001b[0m \u001b[0mmodule\u001b[0m \u001b[0;32min\u001b[0m \u001b[0mself\u001b[0m\u001b[0;34m.\u001b[0m\u001b[0mitems\u001b[0m\u001b[0;34m(\u001b[0m\u001b[0;34m)\u001b[0m\u001b[0;34m:\u001b[0m\u001b[0;34m\u001b[0m\u001b[0;34m\u001b[0m\u001b[0m\n\u001b[0;32m---> 63\u001b[0;31m             \u001b[0mx\u001b[0m \u001b[0;34m=\u001b[0m \u001b[0mmodule\u001b[0m\u001b[0;34m(\u001b[0m\u001b[0mx\u001b[0m\u001b[0;34m)\u001b[0m\u001b[0;34m\u001b[0m\u001b[0;34m\u001b[0m\u001b[0m\n\u001b[0m\u001b[1;32m     64\u001b[0m             \u001b[0;32mif\u001b[0m \u001b[0mname\u001b[0m \u001b[0;32min\u001b[0m \u001b[0mself\u001b[0m\u001b[0;34m.\u001b[0m\u001b[0mreturn_layers\u001b[0m\u001b[0;34m:\u001b[0m\u001b[0;34m\u001b[0m\u001b[0;34m\u001b[0m\u001b[0m\n\u001b[1;32m     65\u001b[0m                 \u001b[0mout_name\u001b[0m \u001b[0;34m=\u001b[0m \u001b[0mself\u001b[0m\u001b[0;34m.\u001b[0m\u001b[0mreturn_layers\u001b[0m\u001b[0;34m[\u001b[0m\u001b[0mname\u001b[0m\u001b[0;34m]\u001b[0m\u001b[0;34m\u001b[0m\u001b[0;34m\u001b[0m\u001b[0m\n",
            "\u001b[0;32m/usr/local/lib/python3.7/dist-packages/torch/nn/modules/module.py\u001b[0m in \u001b[0;36m_call_impl\u001b[0;34m(self, *input, **kwargs)\u001b[0m\n\u001b[1;32m    887\u001b[0m             \u001b[0mresult\u001b[0m \u001b[0;34m=\u001b[0m \u001b[0mself\u001b[0m\u001b[0;34m.\u001b[0m\u001b[0m_slow_forward\u001b[0m\u001b[0;34m(\u001b[0m\u001b[0;34m*\u001b[0m\u001b[0minput\u001b[0m\u001b[0;34m,\u001b[0m \u001b[0;34m**\u001b[0m\u001b[0mkwargs\u001b[0m\u001b[0;34m)\u001b[0m\u001b[0;34m\u001b[0m\u001b[0;34m\u001b[0m\u001b[0m\n\u001b[1;32m    888\u001b[0m         \u001b[0;32melse\u001b[0m\u001b[0;34m:\u001b[0m\u001b[0;34m\u001b[0m\u001b[0;34m\u001b[0m\u001b[0m\n\u001b[0;32m--> 889\u001b[0;31m             \u001b[0mresult\u001b[0m \u001b[0;34m=\u001b[0m \u001b[0mself\u001b[0m\u001b[0;34m.\u001b[0m\u001b[0mforward\u001b[0m\u001b[0;34m(\u001b[0m\u001b[0;34m*\u001b[0m\u001b[0minput\u001b[0m\u001b[0;34m,\u001b[0m \u001b[0;34m**\u001b[0m\u001b[0mkwargs\u001b[0m\u001b[0;34m)\u001b[0m\u001b[0;34m\u001b[0m\u001b[0;34m\u001b[0m\u001b[0m\n\u001b[0m\u001b[1;32m    890\u001b[0m         for hook in itertools.chain(\n\u001b[1;32m    891\u001b[0m                 \u001b[0m_global_forward_hooks\u001b[0m\u001b[0;34m.\u001b[0m\u001b[0mvalues\u001b[0m\u001b[0;34m(\u001b[0m\u001b[0;34m)\u001b[0m\u001b[0;34m,\u001b[0m\u001b[0;34m\u001b[0m\u001b[0;34m\u001b[0m\u001b[0m\n",
            "\u001b[0;32m/usr/local/lib/python3.7/dist-packages/torchvision/ops/misc.py\u001b[0m in \u001b[0;36mforward\u001b[0;34m(self, x)\u001b[0m\n\u001b[1;32m     94\u001b[0m         \u001b[0mscale\u001b[0m \u001b[0;34m=\u001b[0m \u001b[0mw\u001b[0m \u001b[0;34m*\u001b[0m \u001b[0;34m(\u001b[0m\u001b[0mrv\u001b[0m \u001b[0;34m+\u001b[0m \u001b[0mself\u001b[0m\u001b[0;34m.\u001b[0m\u001b[0meps\u001b[0m\u001b[0;34m)\u001b[0m\u001b[0;34m.\u001b[0m\u001b[0mrsqrt\u001b[0m\u001b[0;34m(\u001b[0m\u001b[0;34m)\u001b[0m\u001b[0;34m\u001b[0m\u001b[0;34m\u001b[0m\u001b[0m\n\u001b[1;32m     95\u001b[0m         \u001b[0mbias\u001b[0m \u001b[0;34m=\u001b[0m \u001b[0mb\u001b[0m \u001b[0;34m-\u001b[0m \u001b[0mrm\u001b[0m \u001b[0;34m*\u001b[0m \u001b[0mscale\u001b[0m\u001b[0;34m\u001b[0m\u001b[0;34m\u001b[0m\u001b[0m\n\u001b[0;32m---> 96\u001b[0;31m         \u001b[0;32mreturn\u001b[0m \u001b[0mx\u001b[0m \u001b[0;34m*\u001b[0m \u001b[0mscale\u001b[0m \u001b[0;34m+\u001b[0m \u001b[0mbias\u001b[0m\u001b[0;34m\u001b[0m\u001b[0;34m\u001b[0m\u001b[0m\n\u001b[0m\u001b[1;32m     97\u001b[0m \u001b[0;34m\u001b[0m\u001b[0m\n\u001b[1;32m     98\u001b[0m     \u001b[0;32mdef\u001b[0m \u001b[0m__repr__\u001b[0m\u001b[0;34m(\u001b[0m\u001b[0mself\u001b[0m\u001b[0;34m)\u001b[0m \u001b[0;34m->\u001b[0m \u001b[0mstr\u001b[0m\u001b[0;34m:\u001b[0m\u001b[0;34m\u001b[0m\u001b[0;34m\u001b[0m\u001b[0m\n",
            "\u001b[0;31mRuntimeError\u001b[0m: CUDA out of memory. Tried to allocate 222.00 MiB (GPU 0; 14.76 GiB total capacity; 13.47 GiB already allocated; 29.75 MiB free; 13.70 GiB reserved in total by PyTorch)"
          ]
        }
      ]
    },
    {
      "cell_type": "code",
      "metadata": {
        "id": "KtbPT0hgBb4x",
        "colab": {
          "base_uri": "https://localhost:8080/",
          "height": 456,
          "referenced_widgets": [
            "764a01b9c4fa46698475656f81636adb",
            "12e7b846b85d42f0b851f43c23e345d2",
            "1536a2b964f94e4f87f72d4e55704252",
            "78be3225191047a1a59f704ada89bb05",
            "c88c33698ed44b85930c74f1838221af",
            "b9fdf70bfd264c35931ef4492e568e8e",
            "524efc79681a4db28468b2687593d0de",
            "740d21ab681944f0b428d630ba1fafdb"
          ]
        },
        "outputId": "1fb28bcf-9427-4df2-8f8a-54a3455b640d"
      },
      "source": [
        "for epoch in range(num_epochs):\n",
        "    model.train()\n",
        "    losses = []\n",
        "\n",
        "    loop = tqdm(train_loader)\n",
        "    for i, (images, targets) in enumerate(loop):\n",
        "        images = list(image.to(device) for image in images)\n",
        "        targets = [{k: v.to(device) for k, v in t.items()} for t in targets]\n",
        "        optimizer.zero_grad()\n",
        "        #loss = criterion(model(images), targets)\n",
        "        #losses = model(images, targets)\n",
        "        #loss = sum(loss for loss in losses.values())\n",
        "        loss = model(images,targets)['loss_keypoint']\n",
        "        losses.append(loss)\n",
        "        loss.backward()\n",
        "        optimizer.step()\n",
        "\n",
        "        if (i+1) % 10 == 0:\n",
        "            print(f'| epoch: {epoch} | loss: {loss.item():.4f}')\n",
        "            print()\n",
        "    mean_loss = sum(losses) / len(losses)\n",
        "    scheduler.step(mean_loss)\n"
      ],
      "execution_count": 216,
      "outputs": [
        {
          "output_type": "display_data",
          "data": {
            "application/vnd.jupyter.widget-view+json": {
              "model_id": "764a01b9c4fa46698475656f81636adb",
              "version_minor": 0,
              "version_major": 2
            },
            "text/plain": [
              "HBox(children=(FloatProgress(value=0.0, max=1049.0), HTML(value='')))"
            ]
          },
          "metadata": {
            "tags": []
          }
        },
        {
          "output_type": "error",
          "ename": "RuntimeError",
          "evalue": "ignored",
          "traceback": [
            "\u001b[0;31m---------------------------------------------------------------------------\u001b[0m",
            "\u001b[0;31mRuntimeError\u001b[0m                              Traceback (most recent call last)",
            "\u001b[0;32m<ipython-input-216-be97b8cd707d>\u001b[0m in \u001b[0;36m<module>\u001b[0;34m()\u001b[0m\n\u001b[1;32m     11\u001b[0m         \u001b[0;31m#losses = model(images, targets)\u001b[0m\u001b[0;34m\u001b[0m\u001b[0;34m\u001b[0m\u001b[0;34m\u001b[0m\u001b[0m\n\u001b[1;32m     12\u001b[0m         \u001b[0;31m#loss = sum(loss for loss in losses.values())\u001b[0m\u001b[0;34m\u001b[0m\u001b[0;34m\u001b[0m\u001b[0;34m\u001b[0m\u001b[0m\n\u001b[0;32m---> 13\u001b[0;31m         \u001b[0mloss\u001b[0m \u001b[0;34m=\u001b[0m \u001b[0mmodel\u001b[0m\u001b[0;34m(\u001b[0m\u001b[0mimages\u001b[0m\u001b[0;34m,\u001b[0m\u001b[0mtargets\u001b[0m\u001b[0;34m)\u001b[0m\u001b[0;34m[\u001b[0m\u001b[0;34m'loss_keypoint'\u001b[0m\u001b[0;34m]\u001b[0m\u001b[0;34m\u001b[0m\u001b[0;34m\u001b[0m\u001b[0m\n\u001b[0m\u001b[1;32m     14\u001b[0m         \u001b[0mlosses\u001b[0m\u001b[0;34m.\u001b[0m\u001b[0mappend\u001b[0m\u001b[0;34m(\u001b[0m\u001b[0mloss\u001b[0m\u001b[0;34m)\u001b[0m\u001b[0;34m\u001b[0m\u001b[0;34m\u001b[0m\u001b[0m\n\u001b[1;32m     15\u001b[0m         \u001b[0mloss\u001b[0m\u001b[0;34m.\u001b[0m\u001b[0mbackward\u001b[0m\u001b[0;34m(\u001b[0m\u001b[0;34m)\u001b[0m\u001b[0;34m\u001b[0m\u001b[0;34m\u001b[0m\u001b[0m\n",
            "\u001b[0;32m/usr/local/lib/python3.7/dist-packages/torch/nn/modules/module.py\u001b[0m in \u001b[0;36m_call_impl\u001b[0;34m(self, *input, **kwargs)\u001b[0m\n\u001b[1;32m    887\u001b[0m             \u001b[0mresult\u001b[0m \u001b[0;34m=\u001b[0m \u001b[0mself\u001b[0m\u001b[0;34m.\u001b[0m\u001b[0m_slow_forward\u001b[0m\u001b[0;34m(\u001b[0m\u001b[0;34m*\u001b[0m\u001b[0minput\u001b[0m\u001b[0;34m,\u001b[0m \u001b[0;34m**\u001b[0m\u001b[0mkwargs\u001b[0m\u001b[0;34m)\u001b[0m\u001b[0;34m\u001b[0m\u001b[0;34m\u001b[0m\u001b[0m\n\u001b[1;32m    888\u001b[0m         \u001b[0;32melse\u001b[0m\u001b[0;34m:\u001b[0m\u001b[0;34m\u001b[0m\u001b[0;34m\u001b[0m\u001b[0m\n\u001b[0;32m--> 889\u001b[0;31m             \u001b[0mresult\u001b[0m \u001b[0;34m=\u001b[0m \u001b[0mself\u001b[0m\u001b[0;34m.\u001b[0m\u001b[0mforward\u001b[0m\u001b[0;34m(\u001b[0m\u001b[0;34m*\u001b[0m\u001b[0minput\u001b[0m\u001b[0;34m,\u001b[0m \u001b[0;34m**\u001b[0m\u001b[0mkwargs\u001b[0m\u001b[0;34m)\u001b[0m\u001b[0;34m\u001b[0m\u001b[0;34m\u001b[0m\u001b[0m\n\u001b[0m\u001b[1;32m    890\u001b[0m         for hook in itertools.chain(\n\u001b[1;32m    891\u001b[0m                 \u001b[0m_global_forward_hooks\u001b[0m\u001b[0;34m.\u001b[0m\u001b[0mvalues\u001b[0m\u001b[0;34m(\u001b[0m\u001b[0;34m)\u001b[0m\u001b[0;34m,\u001b[0m\u001b[0;34m\u001b[0m\u001b[0;34m\u001b[0m\u001b[0m\n",
            "\u001b[0;32m/usr/local/lib/python3.7/dist-packages/torchvision/models/detection/generalized_rcnn.py\u001b[0m in \u001b[0;36mforward\u001b[0;34m(self, images, targets)\u001b[0m\n\u001b[1;32m     92\u001b[0m                                      .format(degen_bb, target_idx))\n\u001b[1;32m     93\u001b[0m \u001b[0;34m\u001b[0m\u001b[0m\n\u001b[0;32m---> 94\u001b[0;31m         \u001b[0mfeatures\u001b[0m \u001b[0;34m=\u001b[0m \u001b[0mself\u001b[0m\u001b[0;34m.\u001b[0m\u001b[0mbackbone\u001b[0m\u001b[0;34m(\u001b[0m\u001b[0mimages\u001b[0m\u001b[0;34m.\u001b[0m\u001b[0mtensors\u001b[0m\u001b[0;34m)\u001b[0m\u001b[0;34m\u001b[0m\u001b[0;34m\u001b[0m\u001b[0m\n\u001b[0m\u001b[1;32m     95\u001b[0m         \u001b[0;32mif\u001b[0m \u001b[0misinstance\u001b[0m\u001b[0;34m(\u001b[0m\u001b[0mfeatures\u001b[0m\u001b[0;34m,\u001b[0m \u001b[0mtorch\u001b[0m\u001b[0;34m.\u001b[0m\u001b[0mTensor\u001b[0m\u001b[0;34m)\u001b[0m\u001b[0;34m:\u001b[0m\u001b[0;34m\u001b[0m\u001b[0;34m\u001b[0m\u001b[0m\n\u001b[1;32m     96\u001b[0m             \u001b[0mfeatures\u001b[0m \u001b[0;34m=\u001b[0m \u001b[0mOrderedDict\u001b[0m\u001b[0;34m(\u001b[0m\u001b[0;34m[\u001b[0m\u001b[0;34m(\u001b[0m\u001b[0;34m'0'\u001b[0m\u001b[0;34m,\u001b[0m \u001b[0mfeatures\u001b[0m\u001b[0;34m)\u001b[0m\u001b[0;34m]\u001b[0m\u001b[0;34m)\u001b[0m\u001b[0;34m\u001b[0m\u001b[0;34m\u001b[0m\u001b[0m\n",
            "\u001b[0;32m/usr/local/lib/python3.7/dist-packages/torch/nn/modules/module.py\u001b[0m in \u001b[0;36m_call_impl\u001b[0;34m(self, *input, **kwargs)\u001b[0m\n\u001b[1;32m    887\u001b[0m             \u001b[0mresult\u001b[0m \u001b[0;34m=\u001b[0m \u001b[0mself\u001b[0m\u001b[0;34m.\u001b[0m\u001b[0m_slow_forward\u001b[0m\u001b[0;34m(\u001b[0m\u001b[0;34m*\u001b[0m\u001b[0minput\u001b[0m\u001b[0;34m,\u001b[0m \u001b[0;34m**\u001b[0m\u001b[0mkwargs\u001b[0m\u001b[0;34m)\u001b[0m\u001b[0;34m\u001b[0m\u001b[0;34m\u001b[0m\u001b[0m\n\u001b[1;32m    888\u001b[0m         \u001b[0;32melse\u001b[0m\u001b[0;34m:\u001b[0m\u001b[0;34m\u001b[0m\u001b[0;34m\u001b[0m\u001b[0m\n\u001b[0;32m--> 889\u001b[0;31m             \u001b[0mresult\u001b[0m \u001b[0;34m=\u001b[0m \u001b[0mself\u001b[0m\u001b[0;34m.\u001b[0m\u001b[0mforward\u001b[0m\u001b[0;34m(\u001b[0m\u001b[0;34m*\u001b[0m\u001b[0minput\u001b[0m\u001b[0;34m,\u001b[0m \u001b[0;34m**\u001b[0m\u001b[0mkwargs\u001b[0m\u001b[0;34m)\u001b[0m\u001b[0;34m\u001b[0m\u001b[0;34m\u001b[0m\u001b[0m\n\u001b[0m\u001b[1;32m    890\u001b[0m         for hook in itertools.chain(\n\u001b[1;32m    891\u001b[0m                 \u001b[0m_global_forward_hooks\u001b[0m\u001b[0;34m.\u001b[0m\u001b[0mvalues\u001b[0m\u001b[0;34m(\u001b[0m\u001b[0;34m)\u001b[0m\u001b[0;34m,\u001b[0m\u001b[0;34m\u001b[0m\u001b[0;34m\u001b[0m\u001b[0m\n",
            "\u001b[0;32m/usr/local/lib/python3.7/dist-packages/torchvision/models/detection/backbone_utils.py\u001b[0m in \u001b[0;36mforward\u001b[0;34m(self, x)\u001b[0m\n\u001b[1;32m     43\u001b[0m     \u001b[0;32mdef\u001b[0m \u001b[0mforward\u001b[0m\u001b[0;34m(\u001b[0m\u001b[0mself\u001b[0m\u001b[0;34m,\u001b[0m \u001b[0mx\u001b[0m\u001b[0;34m)\u001b[0m\u001b[0;34m:\u001b[0m\u001b[0;34m\u001b[0m\u001b[0;34m\u001b[0m\u001b[0m\n\u001b[1;32m     44\u001b[0m         \u001b[0mx\u001b[0m \u001b[0;34m=\u001b[0m \u001b[0mself\u001b[0m\u001b[0;34m.\u001b[0m\u001b[0mbody\u001b[0m\u001b[0;34m(\u001b[0m\u001b[0mx\u001b[0m\u001b[0;34m)\u001b[0m\u001b[0;34m\u001b[0m\u001b[0;34m\u001b[0m\u001b[0m\n\u001b[0;32m---> 45\u001b[0;31m         \u001b[0mx\u001b[0m \u001b[0;34m=\u001b[0m \u001b[0mself\u001b[0m\u001b[0;34m.\u001b[0m\u001b[0mfpn\u001b[0m\u001b[0;34m(\u001b[0m\u001b[0mx\u001b[0m\u001b[0;34m)\u001b[0m\u001b[0;34m\u001b[0m\u001b[0;34m\u001b[0m\u001b[0m\n\u001b[0m\u001b[1;32m     46\u001b[0m         \u001b[0;32mreturn\u001b[0m \u001b[0mx\u001b[0m\u001b[0;34m\u001b[0m\u001b[0;34m\u001b[0m\u001b[0m\n\u001b[1;32m     47\u001b[0m \u001b[0;34m\u001b[0m\u001b[0m\n",
            "\u001b[0;32m/usr/local/lib/python3.7/dist-packages/torch/nn/modules/module.py\u001b[0m in \u001b[0;36m_call_impl\u001b[0;34m(self, *input, **kwargs)\u001b[0m\n\u001b[1;32m    887\u001b[0m             \u001b[0mresult\u001b[0m \u001b[0;34m=\u001b[0m \u001b[0mself\u001b[0m\u001b[0;34m.\u001b[0m\u001b[0m_slow_forward\u001b[0m\u001b[0;34m(\u001b[0m\u001b[0;34m*\u001b[0m\u001b[0minput\u001b[0m\u001b[0;34m,\u001b[0m \u001b[0;34m**\u001b[0m\u001b[0mkwargs\u001b[0m\u001b[0;34m)\u001b[0m\u001b[0;34m\u001b[0m\u001b[0;34m\u001b[0m\u001b[0m\n\u001b[1;32m    888\u001b[0m         \u001b[0;32melse\u001b[0m\u001b[0;34m:\u001b[0m\u001b[0;34m\u001b[0m\u001b[0;34m\u001b[0m\u001b[0m\n\u001b[0;32m--> 889\u001b[0;31m             \u001b[0mresult\u001b[0m \u001b[0;34m=\u001b[0m \u001b[0mself\u001b[0m\u001b[0;34m.\u001b[0m\u001b[0mforward\u001b[0m\u001b[0;34m(\u001b[0m\u001b[0;34m*\u001b[0m\u001b[0minput\u001b[0m\u001b[0;34m,\u001b[0m \u001b[0;34m**\u001b[0m\u001b[0mkwargs\u001b[0m\u001b[0;34m)\u001b[0m\u001b[0;34m\u001b[0m\u001b[0;34m\u001b[0m\u001b[0m\n\u001b[0m\u001b[1;32m    890\u001b[0m         for hook in itertools.chain(\n\u001b[1;32m    891\u001b[0m                 \u001b[0m_global_forward_hooks\u001b[0m\u001b[0;34m.\u001b[0m\u001b[0mvalues\u001b[0m\u001b[0;34m(\u001b[0m\u001b[0;34m)\u001b[0m\u001b[0;34m,\u001b[0m\u001b[0;34m\u001b[0m\u001b[0;34m\u001b[0m\u001b[0m\n",
            "\u001b[0;32m/usr/local/lib/python3.7/dist-packages/torchvision/ops/feature_pyramid_network.py\u001b[0m in \u001b[0;36mforward\u001b[0;34m(self, x)\u001b[0m\n\u001b[1;32m    150\u001b[0m             \u001b[0mfeat_shape\u001b[0m \u001b[0;34m=\u001b[0m \u001b[0minner_lateral\u001b[0m\u001b[0;34m.\u001b[0m\u001b[0mshape\u001b[0m\u001b[0;34m[\u001b[0m\u001b[0;34m-\u001b[0m\u001b[0;36m2\u001b[0m\u001b[0;34m:\u001b[0m\u001b[0;34m]\u001b[0m\u001b[0;34m\u001b[0m\u001b[0;34m\u001b[0m\u001b[0m\n\u001b[1;32m    151\u001b[0m             \u001b[0minner_top_down\u001b[0m \u001b[0;34m=\u001b[0m \u001b[0mF\u001b[0m\u001b[0;34m.\u001b[0m\u001b[0minterpolate\u001b[0m\u001b[0;34m(\u001b[0m\u001b[0mlast_inner\u001b[0m\u001b[0;34m,\u001b[0m \u001b[0msize\u001b[0m\u001b[0;34m=\u001b[0m\u001b[0mfeat_shape\u001b[0m\u001b[0;34m,\u001b[0m \u001b[0mmode\u001b[0m\u001b[0;34m=\u001b[0m\u001b[0;34m\"nearest\"\u001b[0m\u001b[0;34m)\u001b[0m\u001b[0;34m\u001b[0m\u001b[0;34m\u001b[0m\u001b[0m\n\u001b[0;32m--> 152\u001b[0;31m             \u001b[0mlast_inner\u001b[0m \u001b[0;34m=\u001b[0m \u001b[0minner_lateral\u001b[0m \u001b[0;34m+\u001b[0m \u001b[0minner_top_down\u001b[0m\u001b[0;34m\u001b[0m\u001b[0;34m\u001b[0m\u001b[0m\n\u001b[0m\u001b[1;32m    153\u001b[0m             \u001b[0mresults\u001b[0m\u001b[0;34m.\u001b[0m\u001b[0minsert\u001b[0m\u001b[0;34m(\u001b[0m\u001b[0;36m0\u001b[0m\u001b[0;34m,\u001b[0m \u001b[0mself\u001b[0m\u001b[0;34m.\u001b[0m\u001b[0mget_result_from_layer_blocks\u001b[0m\u001b[0;34m(\u001b[0m\u001b[0mlast_inner\u001b[0m\u001b[0;34m,\u001b[0m \u001b[0midx\u001b[0m\u001b[0;34m)\u001b[0m\u001b[0;34m)\u001b[0m\u001b[0;34m\u001b[0m\u001b[0;34m\u001b[0m\u001b[0m\n\u001b[1;32m    154\u001b[0m \u001b[0;34m\u001b[0m\u001b[0m\n",
            "\u001b[0;31mRuntimeError\u001b[0m: CUDA out of memory. Tried to allocate 442.00 MiB (GPU 0; 14.76 GiB total capacity; 12.99 GiB already allocated; 308.75 MiB free; 13.33 GiB reserved in total by PyTorch)"
          ]
        }
      ]
    },
    {
      "cell_type": "code",
      "metadata": {
        "id": "-R2AMy_b0IYx"
      },
      "source": [
        "model.eval()\n",
        "pred = model(inputs.to(device))"
      ],
      "execution_count": 36,
      "outputs": []
    },
    {
      "cell_type": "code",
      "metadata": {
        "colab": {
          "base_uri": "https://localhost:8080/"
        },
        "id": "pIda8X4ZMRgb",
        "outputId": "4c24ad68-f2bd-4f15-8543-002b728423c1"
      },
      "source": [
        "pred[0]['keypoints_scores']"
      ],
      "execution_count": 87,
      "outputs": [
        {
          "output_type": "execute_result",
          "data": {
            "text/plain": [
              "tensor([[2.7051, 2.7298, 2.6749, 2.4473, 2.7598, 3.0804, 3.2429, 2.3554, 2.0434,\n",
              "         2.6088, 1.7458, 6.8053, 7.4754, 3.3857, 4.6913, 2.3058, 2.4519, 4.6812,\n",
              "         2.3329, 2.2680, 7.3670, 8.4153, 1.3140, 1.4775],\n",
              "        [2.7305, 2.6902, 2.2186, 2.1767, 2.5404, 3.4265, 3.2892, 2.2181, 2.5896,\n",
              "         1.6263, 1.6364, 7.1059, 7.9154, 2.2918, 4.5007, 1.8647, 2.7834, 4.6465,\n",
              "         2.1662, 1.6665, 7.8202, 7.9875, 2.0343, 2.2480],\n",
              "        [2.9590, 3.0563, 2.1776, 2.2301, 2.6945, 4.0027, 3.4148, 2.0994, 2.5217,\n",
              "         2.0948, 1.4896, 6.4010, 5.7757, 2.6738, 3.0984, 1.8738, 2.5853, 5.2733,\n",
              "         1.9110, 2.0992, 7.2220, 7.0897, 1.4654, 1.5968],\n",
              "        [3.6486, 1.5713, 2.7012, 1.9345, 2.0770, 2.6281, 2.4800, 1.3951, 1.9378,\n",
              "         1.7133, 2.0092, 6.7987, 7.0293, 2.9051, 3.5813, 2.3929, 2.6949, 3.7737,\n",
              "         2.8220, 2.2891, 4.5232, 7.0777, 1.5556, 1.4750],\n",
              "        [3.1058, 1.9764, 2.6765, 2.7493, 2.5923, 2.6681, 2.9819, 1.2705, 2.2126,\n",
              "         1.3564, 1.7837, 7.1844, 7.0364, 2.5099, 4.0835, 2.3720, 2.9213, 4.1015,\n",
              "         2.7470, 1.8263, 6.0016, 7.3082, 2.1235, 1.8937],\n",
              "        [3.6193, 2.6185, 2.5695, 2.3707, 2.4357, 1.9544, 1.8923, 1.3504, 2.0925,\n",
              "         2.5583, 1.7917, 5.3265, 4.3505, 3.8128, 3.6801, 2.3338, 2.7897, 3.8975,\n",
              "         2.2904, 1.7564, 5.4688, 5.8904, 1.5676, 2.0490],\n",
              "        [2.7465, 2.6045, 2.2716, 1.9772, 2.6576, 3.0292, 3.2696, 1.9294, 2.9151,\n",
              "         2.0510, 1.5203, 6.0107, 6.1336, 2.9094, 3.3178, 2.0348, 2.3531, 4.5535,\n",
              "         1.9105, 2.0975, 6.7106, 7.7687, 0.7249, 1.3078],\n",
              "        [2.6135, 2.5471, 2.4643, 2.0082, 2.6219, 2.9187, 2.7057, 1.8130, 2.2659,\n",
              "         1.9025, 1.3074, 6.4613, 6.5819, 2.2882, 3.9812, 1.6100, 2.6406, 4.0936,\n",
              "         1.9844, 1.5441, 6.1497, 6.7343, 2.0013, 1.9077],\n",
              "        [3.6623, 2.6028, 2.5420, 2.4164, 2.6322, 2.0224, 2.2665, 1.4360, 1.9975,\n",
              "         1.6676, 1.7731, 5.7442, 4.6297, 3.9120, 3.6550, 2.7135, 3.5171, 3.6004,\n",
              "         1.8695, 1.7898, 6.1036, 6.3103, 2.0686, 2.2631],\n",
              "        [2.5693, 2.9137, 2.4604, 2.3419, 2.5091, 2.3980, 2.5419, 1.4172, 1.6438,\n",
              "         1.7467, 1.8569, 5.5334, 5.1112, 3.9270, 3.7807, 2.5977, 3.5184, 3.2255,\n",
              "         2.5084, 1.6607, 5.8956, 6.0198, 2.2180, 2.2359],\n",
              "        [3.1421, 2.8283, 2.6061, 2.0769, 2.5554, 2.4140, 1.9082, 1.5612, 1.6886,\n",
              "         2.4487, 1.7644, 5.5283, 4.2181, 3.6429, 3.6185, 2.6357, 2.9980, 3.7165,\n",
              "         2.1106, 1.7062, 5.3770, 5.5689, 1.7676, 1.9993],\n",
              "        [2.6871, 2.4904, 2.2632, 1.9480, 2.0344, 2.4956, 2.2394, 1.3834, 1.4143,\n",
              "         1.5342, 1.1294, 4.5810, 4.3625, 1.9476, 2.6978, 2.1755, 2.0784, 2.6104,\n",
              "         1.5919, 1.3830, 3.9107, 4.2830, 1.7140, 1.6608],\n",
              "        [2.4761, 2.8684, 2.3880, 1.9979, 2.6614, 3.0223, 2.9798, 1.6632, 2.2122,\n",
              "         1.5414, 1.3057, 6.6294, 6.8841, 2.2485, 3.9704, 1.6746, 2.7480, 4.0947,\n",
              "         2.3564, 1.4718, 6.2643, 6.7804, 2.1210, 1.9988],\n",
              "        [3.2778, 2.4673, 2.5028, 1.9383, 1.9765, 1.4370, 1.5809, 1.1270, 1.5882,\n",
              "         2.2915, 1.5874, 4.8577, 3.7468, 3.7677, 3.7548, 2.4039, 3.2932, 3.4942,\n",
              "         2.4017, 1.6982, 5.0430, 5.5689, 1.9033, 2.0197],\n",
              "        [3.1150, 1.5076, 2.2013, 1.9241, 1.3634, 1.1669, 1.6022, 1.3032, 1.7705,\n",
              "         1.5111, 1.6146, 4.7042, 5.2989, 2.7973, 3.4227, 1.3151, 2.9081, 2.9397,\n",
              "         1.9752, 2.3795, 3.4708, 5.4067, 0.5166, 0.9993],\n",
              "        [1.9961, 1.2739, 1.8261, 1.0930, 1.3200, 3.2767, 2.3872, 1.3665, 2.4428,\n",
              "         2.0725, 1.9971, 4.3361, 4.0547, 1.7119, 2.4526, 1.2579, 1.9171, 3.4785,\n",
              "         2.5384, 2.1027, 4.4722, 6.0022, 1.1568, 1.2661],\n",
              "        [3.2998, 3.0303, 2.9477, 2.5813, 2.7548, 2.3519, 2.3987, 1.5893, 1.9119,\n",
              "         2.4711, 1.4860, 5.9760, 5.4407, 3.4755, 3.6379, 2.2172, 3.3758, 3.4367,\n",
              "         2.2067, 1.9568, 6.8210, 6.2153, 2.4344, 2.2790],\n",
              "        [3.7356, 1.8724, 2.7018, 1.9643, 2.0404, 2.0003, 3.0268, 1.2808, 2.5349,\n",
              "         1.7430, 2.3299, 6.4411, 7.2582, 3.3719, 4.2565, 1.2378, 2.0802, 3.8536,\n",
              "         2.9067, 2.5563, 5.1868, 7.3014, 0.7008, 1.1294],\n",
              "        [2.4966, 2.4997, 1.8020, 1.6097, 2.0646, 3.6261, 3.9023, 2.3409, 3.0264,\n",
              "         2.0058, 2.0300, 6.4081, 6.3127, 2.2483, 3.7240, 1.2998, 2.5801, 4.6305,\n",
              "         2.2330, 2.0352, 7.9427, 7.3213, 1.7999, 1.9081],\n",
              "        [2.6707, 1.6131, 2.1230, 1.4852, 1.1407, 1.1382, 1.7796, 0.9277, 1.5140,\n",
              "         1.5052, 1.6468, 4.3934, 4.7849, 2.5094, 2.8658, 1.3770, 2.5421, 2.3509,\n",
              "         1.7006, 2.0827, 3.1973, 5.0197, 0.8602, 1.0343],\n",
              "        [2.1262, 2.6081, 2.0317, 1.8396, 2.5348, 3.5228, 3.3623, 1.9172, 2.4390,\n",
              "         1.9132, 2.0163, 5.5106, 5.8599, 1.9558, 3.3597, 1.4916, 2.2147, 4.4174,\n",
              "         2.7170, 1.4699, 6.6636, 7.0324, 1.5415, 1.5530],\n",
              "        [2.8562, 2.1859, 2.2802, 1.5743, 1.5955, 1.4867, 1.8791, 1.4519, 1.3929,\n",
              "         2.2145, 1.6141, 4.0490, 3.1070, 3.3581, 3.4649, 1.9771, 1.7119, 3.4495,\n",
              "         2.0690, 1.8620, 4.3035, 4.8035, 1.2676, 1.5355],\n",
              "        [2.5263, 2.2571, 2.1675, 2.1264, 2.2420, 2.7052, 2.7828, 1.7180, 1.9231,\n",
              "         1.9866, 1.3845, 5.4764, 5.4119, 2.8621, 2.9202, 1.3940, 2.2209, 3.8853,\n",
              "         2.2467, 1.7804, 5.3195, 6.0027, 0.8429, 1.2718],\n",
              "        [1.9874, 1.3409, 1.4362, 1.2406, 1.4239, 1.4310, 2.1287, 1.6457, 2.9753,\n",
              "         1.5492, 1.5523, 6.1456, 6.2269, 2.3186, 3.3996, 1.7452, 2.6091, 1.9511,\n",
              "         2.3642, 1.8303, 5.1659, 6.6362, 2.0623, 1.7820],\n",
              "        [2.6210, 2.7318, 2.3198, 2.3184, 2.1122, 1.9248, 1.9274, 1.2797, 1.6774,\n",
              "         1.9924, 1.2527, 4.5118, 4.2412, 2.4521, 2.9231, 2.2894, 2.1421, 2.8715,\n",
              "         1.8653, 1.4471, 4.3034, 4.9932, 1.6385, 1.5678],\n",
              "        [2.5071, 2.7507, 2.6588, 2.9208, 2.2582, 2.2691, 2.1720, 1.7980, 1.7452,\n",
              "         2.5642, 1.3032, 5.4425, 4.4990, 3.0248, 3.0544, 2.2245, 2.8628, 3.2170,\n",
              "         2.0274, 1.5654, 5.6089, 5.4189, 2.2646, 2.0182],\n",
              "        [3.6986, 1.8739, 2.3001, 2.2224, 1.8567, 2.0220, 2.2944, 1.4601, 2.0084,\n",
              "         1.8663, 1.8014, 5.7016, 5.7932, 2.6299, 3.4444, 2.0214, 2.5986, 3.5104,\n",
              "         2.4630, 2.2221, 3.9700, 6.5968, 1.6158, 1.6172],\n",
              "        [2.5052, 1.2530, 1.5762, 1.1765, 1.2427, 1.8051, 3.0818, 1.9246, 2.4707,\n",
              "         1.6366, 1.6506, 5.8456, 6.0707, 2.4030, 3.5700, 1.7812, 2.4856, 3.3547,\n",
              "         2.2280, 1.7890, 5.9632, 8.0291, 2.2679, 1.9447],\n",
              "        [2.2048, 2.2815, 1.5606, 1.3832, 1.8088, 3.3832, 2.9389, 2.4229, 2.4545,\n",
              "         2.2465, 1.7336, 4.1575, 3.9847, 1.4773, 2.2578, 1.1707, 1.6873, 4.2037,\n",
              "         2.1050, 2.0076, 6.4273, 7.1991, 1.1421, 1.3102],\n",
              "        [2.6753, 2.2205, 2.3366, 1.7853, 1.5590, 1.4435, 1.8612, 1.3960, 1.7668,\n",
              "         2.1367, 1.2966, 4.4961, 3.5896, 2.8852, 2.9360, 2.4103, 2.5109, 3.5059,\n",
              "         2.3732, 1.7311, 4.1849, 4.7934, 1.7865, 2.0064],\n",
              "        [2.5064, 1.8968, 1.7494, 1.2645, 2.0524, 3.3024, 3.4322, 2.7336, 2.5801,\n",
              "         1.8830, 1.9570, 5.9965, 6.6746, 1.9822, 3.2298, 1.3336, 2.1735, 4.3023,\n",
              "         2.8943, 2.1834, 7.3600, 8.4723, 1.7646, 2.1649],\n",
              "        [2.4381, 2.2020, 2.3442, 1.5414, 1.2528, 1.5139, 1.9762, 1.5668, 1.7122,\n",
              "         2.5526, 1.2693, 4.0760, 3.1778, 3.4725, 3.5943, 2.2946, 2.4675, 3.1765,\n",
              "         2.3644, 2.1780, 3.9314, 5.1166, 1.5064, 1.6313],\n",
              "        [2.2417, 2.0731, 1.8730, 2.1155, 2.2263, 2.4115, 3.2252, 1.7310, 2.6139,\n",
              "         1.6700, 1.7140, 6.1943, 5.5307, 3.1528, 3.5983, 1.7045, 1.9392, 4.0806,\n",
              "         1.9923, 2.0221, 5.8885, 7.4096, 0.8929, 1.5210],\n",
              "        [2.4749, 1.2170, 1.6678, 1.5786, 1.4337, 2.5688, 2.8151, 2.2224, 2.3249,\n",
              "         2.4372, 1.6308, 4.7868, 5.0131, 1.5758, 2.8214, 1.2780, 2.0093, 3.4761,\n",
              "         2.5595, 1.9412, 6.4518, 7.8675, 1.3849, 1.7241],\n",
              "        [2.1848, 1.7116, 1.7527, 1.7696, 1.3616, 2.8792, 2.4738, 2.1327, 2.2817,\n",
              "         2.2525, 2.0243, 5.6876, 5.1853, 2.8832, 3.0895, 2.0328, 2.5885, 3.2783,\n",
              "         2.6019, 1.6698, 5.5336, 6.6872, 1.2730, 1.6187],\n",
              "        [2.8602, 1.2917, 2.2020, 1.6629, 1.5338, 0.9991, 1.9110, 1.0242, 1.6260,\n",
              "         1.5917, 1.8429, 4.6871, 5.5347, 3.0702, 2.8975, 1.4438, 2.0672, 3.2643,\n",
              "         2.1233, 1.8272, 3.8966, 5.1876, 0.7290, 1.2278],\n",
              "        [3.6909, 2.5196, 2.5423, 2.0782, 2.2525, 1.8778, 1.9539, 1.2788, 1.6211,\n",
              "         2.5366, 1.5830, 5.1625, 4.0589, 3.9214, 3.8743, 1.4779, 2.4319, 3.6490,\n",
              "         2.3347, 1.8455, 5.5481, 5.7540, 0.9295, 1.2060],\n",
              "        [1.9414, 0.9783, 1.6854, 1.1966, 1.4302, 2.6312, 2.2927, 1.3300, 2.1629,\n",
              "         2.1934, 1.8294, 3.6011, 3.5737, 1.4387, 2.7862, 1.3935, 1.7521, 3.0977,\n",
              "         2.1116, 1.6018, 4.3194, 5.1473, 1.2252, 1.2977],\n",
              "        [2.1988, 1.9429, 2.0199, 1.6610, 1.4042, 1.4046, 2.3046, 1.2673, 1.5694,\n",
              "         1.5417, 1.1901, 3.6204, 2.9531, 2.7415, 3.2932, 2.1275, 1.6568, 2.7138,\n",
              "         1.9558, 1.7425, 3.3018, 3.9164, 1.3475, 1.6036],\n",
              "        [2.2089, 1.7745, 1.3930, 1.6888, 1.4525, 2.1407, 1.9977, 1.3448, 2.2430,\n",
              "         1.6087, 1.6831, 4.7432, 4.1718, 1.6834, 2.5854, 1.3366, 1.9946, 2.9994,\n",
              "         2.2613, 1.6731, 3.9557, 5.0634, 1.0795, 1.5560]], device='cuda:0')"
            ]
          },
          "metadata": {
            "tags": []
          },
          "execution_count": 87
        }
      ]
    },
    {
      "cell_type": "code",
      "metadata": {
        "colab": {
          "base_uri": "https://localhost:8080/"
        },
        "id": "3N4Vm8rY1Met",
        "outputId": "cb93ff48-19e3-4cc8-be64-0e01f90abc1f"
      },
      "source": [
        "pred[0]['keypoints']  [40,24,3] -> [24,2] ?"
      ],
      "execution_count": 83,
      "outputs": [
        {
          "output_type": "execute_result",
          "data": {
            "text/plain": [
              "tensor([[[185.2454,  64.9514,   1.0000],\n",
              "         [189.7443,  55.5038,   1.0000],\n",
              "         [185.2454,  55.5038,   1.0000],\n",
              "         ...,\n",
              "         [189.7443,  73.2742,   1.0000],\n",
              "         [194.2433, 131.5340,   1.0000],\n",
              "         [200.0919, 131.5340,   1.0000]],\n",
              "\n",
              "        [[191.6950,  54.8368,   1.0000],\n",
              "         [186.0897,  48.5566,   1.0000],\n",
              "         [184.2961,  48.5566,   1.0000],\n",
              "         ...,\n",
              "         [197.0761,  71.6585,   1.0000],\n",
              "         [195.2824,  99.4706,   1.0000],\n",
              "         [187.8834,  99.4706,   1.0000]],\n",
              "\n",
              "        [[177.5935,  58.0109,   1.0000],\n",
              "         [177.5935,  54.6360,   1.0000],\n",
              "         [174.4489,  48.3360,   1.0000],\n",
              "         ...,\n",
              "         [179.8396,  69.7108,   1.0000],\n",
              "         [186.5781, 118.7602,   1.0000],\n",
              "         [180.7381, 118.7602,   1.0000]],\n",
              "\n",
              "        ...,\n",
              "\n",
              "        [[162.7015,  27.3337,   1.0000],\n",
              "         [174.1676,  27.3337,   1.0000],\n",
              "         [153.9333,  27.3337,   1.0000],\n",
              "         ...,\n",
              "         [168.5470,  46.1988,   1.0000],\n",
              "         [188.5565,  63.7164,   1.0000],\n",
              "         [151.9099,  63.7164,   1.0000]],\n",
              "\n",
              "        [[201.7179, 108.1151,   1.0000],\n",
              "         [198.8005, 108.1151,   1.0000],\n",
              "         [192.9658, 108.1151,   1.0000],\n",
              "         ...,\n",
              "         [192.9658, 109.8998,   1.0000],\n",
              "         [192.9658, 128.1933,   1.0000],\n",
              "         [199.9226, 128.1933,   1.0000]],\n",
              "\n",
              "        [[150.2937,  32.1981,   1.0000],\n",
              "         [164.6422,  32.1981,   1.0000],\n",
              "         [152.0872,  32.1981,   1.0000],\n",
              "         ...,\n",
              "         [160.6067,  51.5015,   1.0000],\n",
              "         [141.7742,  96.1686,   1.0000],\n",
              "         [157.0196,  96.1686,   1.0000]]], device='cuda:0')"
            ]
          },
          "metadata": {
            "tags": []
          },
          "execution_count": 83
        }
      ]
    },
    {
      "cell_type": "code",
      "metadata": {
        "id": "BMUIpYTyMRk5",
        "colab": {
          "base_uri": "https://localhost:8080/"
        },
        "outputId": "e73116bf-23d2-4f34-ff09-1b5f76957932"
      },
      "source": [
        "pred[0]['keypoints'].shape , pred[1]['keypoints'].shape , pred[2]['keypoints'].shape , pred[3]['keypoints'].shape"
      ],
      "execution_count": 81,
      "outputs": [
        {
          "output_type": "execute_result",
          "data": {
            "text/plain": [
              "(torch.Size([40, 24, 3]),\n",
              " torch.Size([7, 24, 3]),\n",
              " torch.Size([2, 24, 3]),\n",
              " torch.Size([61, 24, 3]))"
            ]
          },
          "metadata": {
            "tags": []
          },
          "execution_count": 81
        }
      ]
    },
    {
      "cell_type": "code",
      "metadata": {
        "colab": {
          "base_uri": "https://localhost:8080/"
        },
        "id": "SQIw8qqhIZO9",
        "outputId": "ffd8eec6-f205-47f3-b0d8-79a3f15483ba"
      },
      "source": [
        "key = pred[0]['keypoints'][0][:,:2]\n",
        "key = pred[1]['keypoints'][0][:,:2]\n",
        "key = pred[2]['keypoints'][0][:,:2]\n",
        "key.reshape(-1).detach().cpu().numpy()"
      ],
      "execution_count": null,
      "outputs": [
        {
          "output_type": "execute_result",
          "data": {
            "text/plain": [
              "array([160.66547 ,  54.27633 , 195.93826 ,  64.15483 , 173.92085 ,\n",
              "        43.7243  , 171.67418 ,  70.21664 , 178.4142  ,  62.358738,\n",
              "       180.66087 ,  64.37934 , 173.69618 ,  72.012726, 189.4229  ,\n",
              "        68.19603 , 191.44492 ,  58.31754 , 173.92085 ,  54.27633 ,\n",
              "       191.66957 ,  56.296932, 204.92494 ,  76.50295 , 164.93416 ,\n",
              "        52.25573 , 169.65218 ,  25.987907, 167.4055  ,  72.237236,\n",
              "       184.92955 ,  44.17332 , 187.17624 ,  64.37934 , 182.90755 ,\n",
              "        58.31754 , 195.93826 ,  70.21664 , 165.15883 ,  54.27633 ,\n",
              "       187.17624 ,  68.19603 , 193.91624 ,  60.33814 , 175.94286 ,\n",
              "        66.17543 , 160.66547 ,  58.31754 ], dtype=float32)"
            ]
          },
          "metadata": {
            "tags": []
          },
          "execution_count": 59
        }
      ]
    },
    {
      "cell_type": "code",
      "metadata": {
        "id": "ZC9Nh_cM9QP5",
        "colab": {
          "base_uri": "https://localhost:8080/",
          "height": 432,
          "referenced_widgets": [
            "0e723745096e4d918c59719bf3168a84",
            "c1dfc791d29b44ee83498ca3d982de84",
            "e8932ab19a2a4d3287251a94e2fca6aa",
            "dbe477969f444be787bb2fce32035dcd",
            "8b96223314024c84b02324eb25f808e0",
            "7b9685dae1d84189a89a7fcf63dd2178",
            "fe9262ddc234427aa765b4700ae2af82",
            "848ee2f8a07c43979ed6e227f835e6e6"
          ]
        },
        "outputId": "7f7d5fa9-ec5b-4c8b-c00c-f1b98bd10c9b"
      },
      "source": [
        "#추론\n",
        "model.eval()\n",
        "print(\"eval\")\n",
        "all_predictions = []\n",
        "files = []\n",
        "with torch.no_grad():\n",
        "  loop = tqdm(test_loader)\n",
        "  for filenames, inputs in loop:\n",
        "    pred = model(inputs.to(device))\n",
        "    predictions = [[x['keypoints'][0][:,:2].reshape(-1).detach().cpu().numpy() for x in pred ],\n",
        "                   [x['keypoints'][1][:,:2].reshape(-1).detach().cpu().numpy() for x in pred ],\n",
        "                   [x['keypoints'][2][:,:2].reshape(-1).detach().cpu().numpy() for x in pred ],\n",
        "                   [x['keypoints'][3][:,:2].reshape(-1).detach().cpu().numpy() for x in pred ]]\n",
        "    #for i in range(1,batch_size):\n",
        "    #  predictions.append([x['keypoints'][i][:,:2].reshape(-1).detach().cpu().numpy() for x in pred ])\n",
        "    files.extend(filenames)\n",
        "    for prediction in predictions:\n",
        "      all_predictions.append(prediction)"
      ],
      "execution_count": 48,
      "outputs": [
        {
          "output_type": "stream",
          "text": [
            "eval\n"
          ],
          "name": "stdout"
        },
        {
          "output_type": "display_data",
          "data": {
            "application/vnd.jupyter.widget-view+json": {
              "model_id": "0e723745096e4d918c59719bf3168a84",
              "version_minor": 0,
              "version_major": 2
            },
            "text/plain": [
              "HBox(children=(FloatProgress(value=0.0, max=400.0), HTML(value='')))"
            ]
          },
          "metadata": {
            "tags": []
          }
        },
        {
          "output_type": "error",
          "ename": "IndexError",
          "evalue": "ignored",
          "traceback": [
            "\u001b[0;31m---------------------------------------------------------------------------\u001b[0m",
            "\u001b[0;31mIndexError\u001b[0m                                Traceback (most recent call last)",
            "\u001b[0;32m<ipython-input-48-e780fd204de7>\u001b[0m in \u001b[0;36m<module>\u001b[0;34m()\u001b[0m\n\u001b[1;32m     10\u001b[0m     predictions = [[x['keypoints'][0][:,:2].reshape(-1).detach().cpu().numpy() for x in pred ],\n\u001b[1;32m     11\u001b[0m                    \u001b[0;34m[\u001b[0m\u001b[0mx\u001b[0m\u001b[0;34m[\u001b[0m\u001b[0;34m'keypoints'\u001b[0m\u001b[0;34m]\u001b[0m\u001b[0;34m[\u001b[0m\u001b[0;36m1\u001b[0m\u001b[0;34m]\u001b[0m\u001b[0;34m[\u001b[0m\u001b[0;34m:\u001b[0m\u001b[0;34m,\u001b[0m\u001b[0;34m:\u001b[0m\u001b[0;36m2\u001b[0m\u001b[0;34m]\u001b[0m\u001b[0;34m.\u001b[0m\u001b[0mreshape\u001b[0m\u001b[0;34m(\u001b[0m\u001b[0;34m-\u001b[0m\u001b[0;36m1\u001b[0m\u001b[0;34m)\u001b[0m\u001b[0;34m.\u001b[0m\u001b[0mdetach\u001b[0m\u001b[0;34m(\u001b[0m\u001b[0;34m)\u001b[0m\u001b[0;34m.\u001b[0m\u001b[0mcpu\u001b[0m\u001b[0;34m(\u001b[0m\u001b[0;34m)\u001b[0m\u001b[0;34m.\u001b[0m\u001b[0mnumpy\u001b[0m\u001b[0;34m(\u001b[0m\u001b[0;34m)\u001b[0m \u001b[0;32mfor\u001b[0m \u001b[0mx\u001b[0m \u001b[0;32min\u001b[0m \u001b[0mpred\u001b[0m \u001b[0;34m]\u001b[0m\u001b[0;34m,\u001b[0m\u001b[0;34m\u001b[0m\u001b[0;34m\u001b[0m\u001b[0m\n\u001b[0;32m---> 12\u001b[0;31m                    \u001b[0;34m[\u001b[0m\u001b[0mx\u001b[0m\u001b[0;34m[\u001b[0m\u001b[0;34m'keypoints'\u001b[0m\u001b[0;34m]\u001b[0m\u001b[0;34m[\u001b[0m\u001b[0;36m2\u001b[0m\u001b[0;34m]\u001b[0m\u001b[0;34m[\u001b[0m\u001b[0;34m:\u001b[0m\u001b[0;34m,\u001b[0m\u001b[0;34m:\u001b[0m\u001b[0;36m2\u001b[0m\u001b[0;34m]\u001b[0m\u001b[0;34m.\u001b[0m\u001b[0mreshape\u001b[0m\u001b[0;34m(\u001b[0m\u001b[0;34m-\u001b[0m\u001b[0;36m1\u001b[0m\u001b[0;34m)\u001b[0m\u001b[0;34m.\u001b[0m\u001b[0mdetach\u001b[0m\u001b[0;34m(\u001b[0m\u001b[0;34m)\u001b[0m\u001b[0;34m.\u001b[0m\u001b[0mcpu\u001b[0m\u001b[0;34m(\u001b[0m\u001b[0;34m)\u001b[0m\u001b[0;34m.\u001b[0m\u001b[0mnumpy\u001b[0m\u001b[0;34m(\u001b[0m\u001b[0;34m)\u001b[0m \u001b[0;32mfor\u001b[0m \u001b[0mx\u001b[0m \u001b[0;32min\u001b[0m \u001b[0mpred\u001b[0m \u001b[0;34m]\u001b[0m\u001b[0;34m,\u001b[0m\u001b[0;34m\u001b[0m\u001b[0;34m\u001b[0m\u001b[0m\n\u001b[0m\u001b[1;32m     13\u001b[0m                    [x['keypoints'][3][:,:2].reshape(-1).detach().cpu().numpy() for x in pred ]]\n\u001b[1;32m     14\u001b[0m     \u001b[0;31m#for i in range(1,batch_size):\u001b[0m\u001b[0;34m\u001b[0m\u001b[0;34m\u001b[0m\u001b[0;34m\u001b[0m\u001b[0m\n",
            "\u001b[0;32m<ipython-input-48-e780fd204de7>\u001b[0m in \u001b[0;36m<listcomp>\u001b[0;34m(.0)\u001b[0m\n\u001b[1;32m     10\u001b[0m     predictions = [[x['keypoints'][0][:,:2].reshape(-1).detach().cpu().numpy() for x in pred ],\n\u001b[1;32m     11\u001b[0m                    \u001b[0;34m[\u001b[0m\u001b[0mx\u001b[0m\u001b[0;34m[\u001b[0m\u001b[0;34m'keypoints'\u001b[0m\u001b[0;34m]\u001b[0m\u001b[0;34m[\u001b[0m\u001b[0;36m1\u001b[0m\u001b[0;34m]\u001b[0m\u001b[0;34m[\u001b[0m\u001b[0;34m:\u001b[0m\u001b[0;34m,\u001b[0m\u001b[0;34m:\u001b[0m\u001b[0;36m2\u001b[0m\u001b[0;34m]\u001b[0m\u001b[0;34m.\u001b[0m\u001b[0mreshape\u001b[0m\u001b[0;34m(\u001b[0m\u001b[0;34m-\u001b[0m\u001b[0;36m1\u001b[0m\u001b[0;34m)\u001b[0m\u001b[0;34m.\u001b[0m\u001b[0mdetach\u001b[0m\u001b[0;34m(\u001b[0m\u001b[0;34m)\u001b[0m\u001b[0;34m.\u001b[0m\u001b[0mcpu\u001b[0m\u001b[0;34m(\u001b[0m\u001b[0;34m)\u001b[0m\u001b[0;34m.\u001b[0m\u001b[0mnumpy\u001b[0m\u001b[0;34m(\u001b[0m\u001b[0;34m)\u001b[0m \u001b[0;32mfor\u001b[0m \u001b[0mx\u001b[0m \u001b[0;32min\u001b[0m \u001b[0mpred\u001b[0m \u001b[0;34m]\u001b[0m\u001b[0;34m,\u001b[0m\u001b[0;34m\u001b[0m\u001b[0;34m\u001b[0m\u001b[0m\n\u001b[0;32m---> 12\u001b[0;31m                    \u001b[0;34m[\u001b[0m\u001b[0mx\u001b[0m\u001b[0;34m[\u001b[0m\u001b[0;34m'keypoints'\u001b[0m\u001b[0;34m]\u001b[0m\u001b[0;34m[\u001b[0m\u001b[0;36m2\u001b[0m\u001b[0;34m]\u001b[0m\u001b[0;34m[\u001b[0m\u001b[0;34m:\u001b[0m\u001b[0;34m,\u001b[0m\u001b[0;34m:\u001b[0m\u001b[0;36m2\u001b[0m\u001b[0;34m]\u001b[0m\u001b[0;34m.\u001b[0m\u001b[0mreshape\u001b[0m\u001b[0;34m(\u001b[0m\u001b[0;34m-\u001b[0m\u001b[0;36m1\u001b[0m\u001b[0;34m)\u001b[0m\u001b[0;34m.\u001b[0m\u001b[0mdetach\u001b[0m\u001b[0;34m(\u001b[0m\u001b[0;34m)\u001b[0m\u001b[0;34m.\u001b[0m\u001b[0mcpu\u001b[0m\u001b[0;34m(\u001b[0m\u001b[0;34m)\u001b[0m\u001b[0;34m.\u001b[0m\u001b[0mnumpy\u001b[0m\u001b[0;34m(\u001b[0m\u001b[0;34m)\u001b[0m \u001b[0;32mfor\u001b[0m \u001b[0mx\u001b[0m \u001b[0;32min\u001b[0m \u001b[0mpred\u001b[0m \u001b[0;34m]\u001b[0m\u001b[0;34m,\u001b[0m\u001b[0;34m\u001b[0m\u001b[0;34m\u001b[0m\u001b[0m\n\u001b[0m\u001b[1;32m     13\u001b[0m                    [x['keypoints'][3][:,:2].reshape(-1).detach().cpu().numpy() for x in pred ]]\n\u001b[1;32m     14\u001b[0m     \u001b[0;31m#for i in range(1,batch_size):\u001b[0m\u001b[0;34m\u001b[0m\u001b[0;34m\u001b[0m\u001b[0;34m\u001b[0m\u001b[0m\n",
            "\u001b[0;31mIndexError\u001b[0m: index 2 is out of bounds for dimension 0 with size 2"
          ]
        }
      ]
    },
    {
      "cell_type": "code",
      "metadata": {
        "id": "DtBwuWnyAUPt"
      },
      "source": [
        "all_predictions = np.array(all_predictions)\n",
        "for i in range(all_predictions.shape[0]):\n",
        "    all_predictions[i, [2*j for j in range(48//2)]] /= 300 / 1920\n",
        "    all_predictions[i, [2*j + 1 for j in range(48//2)]] /= 150 / 1080"
      ],
      "execution_count": 32,
      "outputs": []
    },
    {
      "cell_type": "code",
      "metadata": {
        "id": "fVxnWCGXAUSq"
      },
      "source": [
        "df_sub = pd.read_csv('/content/drive/MyDrive/data/sample_submission.csv')\n",
        "df = pd.DataFrame(columns=df_sub.columns)\n",
        "df['image'] = files\n",
        "df.iloc[:, 1:] = all_predictions\n",
        "df.head()"
      ],
      "execution_count": null,
      "outputs": []
    },
    {
      "cell_type": "code",
      "metadata": {
        "id": "VhWB90MNAXeA"
      },
      "source": [
        "df.to_csv('sub.csv', index=False)"
      ],
      "execution_count": null,
      "outputs": []
    },
    {
      "cell_type": "code",
      "metadata": {
        "id": "7v1o0udxJKVE",
        "colab": {
          "base_uri": "https://localhost:8080/"
        },
        "outputId": "fb7dfa5c-d196-4d2b-f0e1-b9d83c5cf108"
      },
      "source": [
        "inputs.shape"
      ],
      "execution_count": 75,
      "outputs": [
        {
          "output_type": "execute_result",
          "data": {
            "text/plain": [
              "torch.Size([4, 3, 150, 300])"
            ]
          },
          "metadata": {
            "tags": []
          },
          "execution_count": 75
        }
      ]
    },
    {
      "cell_type": "code",
      "metadata": {
        "colab": {
          "base_uri": "https://localhost:8080/"
        },
        "id": "xOf2HcgXp1Hx",
        "outputId": "2832d385-1162-4060-ef52-03efcc47682d"
      },
      "source": [
        "loss.item()"
      ],
      "execution_count": 90,
      "outputs": [
        {
          "output_type": "execute_result",
          "data": {
            "text/plain": [
              "6.821656703948975"
            ]
          },
          "metadata": {
            "tags": []
          },
          "execution_count": 90
        }
      ]
    },
    {
      "cell_type": "code",
      "metadata": {
        "id": "87HPtH5u283R"
      },
      "source": [
        ""
      ],
      "execution_count": null,
      "outputs": []
    }
  ]
}